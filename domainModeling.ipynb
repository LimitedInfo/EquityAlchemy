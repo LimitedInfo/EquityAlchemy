{
 "cells": [
  {
   "cell_type": "code",
   "execution_count": 15,
   "metadata": {},
   "outputs": [
    {
     "data": {
      "text/plain": [
       "<module 'backend.service_layer.service' from 'c:\\\\Users\\\\Site Oracle\\\\reduceComplexity\\\\backend\\\\service_layer\\\\service.py'>"
      ]
     },
     "execution_count": 15,
     "metadata": {},
     "output_type": "execute_result"
    }
   ],
   "source": [
    "import requests\n",
    "from abc import ABC, abstractmethod\n",
    "from typing import List, Optional\n",
    "import importlib\n",
    "import backend.adapters.repository as repository\n",
    "import backend.domain.model as model\n",
    "import backend.service_layer.service as service\n",
    "import backend.service_layer.uow as uow\n",
    "from sec_api import XbrlApi\n",
    "import os\n",
    "\n",
    "importlib.reload(repository)\n",
    "importlib.reload(model)\n",
    "importlib.reload(service)"
   ]
  },
  {
   "cell_type": "code",
   "execution_count": 16,
   "metadata": {},
   "outputs": [],
   "source": [
    "from backend.domain.model import Company, Filing"
   ]
  },
  {
   "cell_type": "code",
   "execution_count": 17,
   "metadata": {},
   "outputs": [],
   "source": [
    "uow_instance = uow.UnitOfWork()\n",
    "company = service.get_company_by_ticker('GES', uow_instance)\n"
   ]
  },
  {
   "cell_type": "code",
   "execution_count": 18,
   "metadata": {},
   "outputs": [],
   "source": [
    "company.filings = company.get_filings_by_type('10-Q')"
   ]
  },
  {
   "cell_type": "code",
   "execution_count": 19,
   "metadata": {},
   "outputs": [
    {
     "name": "stdout",
     "output_type": "stream",
     "text": [
      "Loaded data for filing date 2024-12-06, form 10-Q\n"
     ]
    }
   ],
   "source": [
    "# Get data for first 4 filings\n",
    "for filing in company.filings[:1]:\n",
    "    filing.data = uow_instance.sec_filings.get_filing_data(\n",
    "        filing.cik,\n",
    "        filing.accession_number,\n",
    "        filing.primary_document\n",
    "    )\n",
    "    filing.filing_url = uow_instance.sec_filings.get_filing_url(\n",
    "        filing.cik,\n",
    "        filing.accession_number,\n",
    "        filing.primary_document\n",
    "    )\n",
    "    print(f'Loaded data for filing date {filing.filing_date}, form {filing.form}')\n"
   ]
  },
  {
   "cell_type": "code",
   "execution_count": 20,
   "metadata": {},
   "outputs": [
    {
     "name": "stdout",
     "output_type": "stream",
     "text": [
      "Years covered in last filing (2024-12-06):\n",
      "Index(['2023-07-30:2023-10-28', '2024-08-04:2024-11-02'], dtype='object', name='date_range')\n",
      "Index(['2023-07-30:2023-10-28', '2024-08-04:2024-11-02'], dtype='object', name='date_range')\n",
      "Index(['2023-07-30:2023-10-28', '2024-08-04:2024-11-02'], dtype='object', name='date_range')\n"
     ]
    }
   ],
   "source": [
    "res = company.select_filings_with_processing_pattern(company.filings,'10-Q')"
   ]
  },
  {
   "cell_type": "code",
   "execution_count": 21,
   "metadata": {},
   "outputs": [
    {
     "name": "stdout",
     "output_type": "stream",
     "text": [
      "Loaded data for filing date 2024-12-06, form 10-Q\n",
      "Loaded data for filing date 2024-09-06, form 10-Q\n",
      "Loaded data for filing date 2024-06-07, form 10-Q\n",
      "Loaded data for filing date 2022-12-02, form 10-Q\n",
      "Loaded data for filing date 2022-09-02, form 10-Q\n",
      "Loaded data for filing date 2022-06-02, form 10-Q\n",
      "Loaded data for filing date 2020-12-04, form 10-Q\n",
      "Loaded data for filing date 2020-09-04, form 10-Q\n",
      "Loaded data for filing date 2020-06-11, form 10-Q\n",
      "Loaded data for filing date 2018-12-07, form 10-Q\n",
      "Loaded data for filing date 2018-09-06, form 10-Q\n",
      "Loaded data for filing date 2018-06-07, form 10-Q\n",
      "Loaded data for filing date 2016-12-06, form 10-Q\n",
      "Loaded data for filing date 2016-09-01, form 10-Q\n",
      "Loaded data for filing date 2016-06-02, form 10-Q\n",
      "Loaded data for filing date 2014-12-09, form 10-Q\n",
      "Loaded data for filing date 2014-09-05, form 10-Q\n",
      "Loaded data for filing date 2014-06-06, form 10-Q\n",
      "Loaded data for filing date 2012-12-05, form 10-Q\n",
      "Loaded data for filing date 2012-09-05, form 10-Q\n",
      "Loaded data for filing date 2012-06-05, form 10-Q\n",
      "Loaded data for filing date 2010-12-07, form 10-Q\n",
      "Loaded data for filing date 2010-09-07, form 10-Q\n",
      "Loaded data for filing date 2010-06-10, form 10-Q\n",
      "Loaded data for filing date 2008-12-11, form 10-Q\n",
      "Loaded data for filing date 2008-09-10, form 10-Q\n",
      "Loaded data for filing date 2008-06-12, form 10-Q\n",
      "Loaded data for filing date 2007-12-12, form 10-Q\n",
      "Loaded data for filing date 2007-09-11, form 10-Q\n",
      "Loaded data for filing date 2007-06-13, form 10-Q\n"
     ]
    }
   ],
   "source": [
    "for filing in res:\n",
    "    print(f'Loaded data for filing date {filing.filing_date}, form {filing.form}')"
   ]
  },
  {
   "cell_type": "code",
   "execution_count": null,
   "metadata": {},
   "outputs": [],
   "source": []
  },
  {
   "cell_type": "code",
   "execution_count": null,
   "metadata": {},
   "outputs": [],
   "source": []
  },
  {
   "cell_type": "code",
   "execution_count": null,
   "metadata": {},
   "outputs": [],
   "source": []
  },
  {
   "cell_type": "code",
   "execution_count": null,
   "metadata": {},
   "outputs": [],
   "source": []
  },
  {
   "cell_type": "code",
   "execution_count": null,
   "metadata": {},
   "outputs": [],
   "source": []
  }
 ],
 "metadata": {
  "kernelspec": {
   "display_name": ".venv",
   "language": "python",
   "name": "python3"
  },
  "language_info": {
   "codemirror_mode": {
    "name": "ipython",
    "version": 3
   },
   "file_extension": ".py",
   "mimetype": "text/x-python",
   "name": "python",
   "nbconvert_exporter": "python",
   "pygments_lexer": "ipython3",
   "version": "3.11.9"
  }
 },
 "nbformat": 4,
 "nbformat_minor": 2
}
