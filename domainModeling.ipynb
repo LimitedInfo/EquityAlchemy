{
 "cells": [
  {
   "cell_type": "code",
   "execution_count": 104,
   "metadata": {},
   "outputs": [],
   "source": [
    "import requests\n",
    "from abc import ABC, abstractmethod\n",
    "from typing import List, Optional"
   ]
  },
  {
   "cell_type": "code",
   "execution_count": 105,
   "metadata": {},
   "outputs": [
    {
     "data": {
      "text/plain": [
       "<module 'model' from 'c:\\\\Users\\\\Site Oracle\\\\reduceComplexity\\\\model.py'>"
      ]
     },
     "execution_count": 105,
     "metadata": {},
     "output_type": "execute_result"
    }
   ],
   "source": [
    "import importlib\n",
    "\n",
    "import model\n",
    "importlib.reload(model)"
   ]
  },
  {
   "cell_type": "code",
   "execution_count": 106,
   "metadata": {},
   "outputs": [],
   "source": [
    "aapl = model.Company(\"Apple\", \"AAPL\", model.SECFilingRepository())"
   ]
  },
  {
   "cell_type": "code",
   "execution_count": 107,
   "metadata": {},
   "outputs": [
    {
     "data": {
      "text/plain": [
       "'0000320193'"
      ]
     },
     "execution_count": 107,
     "metadata": {},
     "output_type": "execute_result"
    }
   ],
   "source": [
    "aapl.cik"
   ]
  },
  {
   "cell_type": "code",
   "execution_count": 108,
   "metadata": {},
   "outputs": [
    {
     "name": "stdout",
     "output_type": "stream",
     "text": [
      "getting filings\n",
      "filings retrieved\n",
      "returning filings\n",
      "[<model.Filing object at 0x000001971EEC7250>, <model.Filing object at 0x000001971EF01490>, <model.Filing object at 0x000001972126E590>, <model.Filing object at 0x000001972126EE10>, <model.Filing object at 0x000001972126ECD0>, <model.Filing object at 0x000001972126EBD0>, <model.Filing object at 0x000001972126EC50>, <model.Filing object at 0x000001972126DF10>, <model.Filing object at 0x000001972126DF50>, <model.Filing object at 0x000001972126ED50>, <model.Filing object at 0x000001972126DED0>, <model.Filing object at 0x000001972126E010>, <model.Filing object at 0x000001972126E090>, <model.Filing object at 0x000001972126E110>, <model.Filing object at 0x000001972126E050>, <model.Filing object at 0x000001972126DE90>, <model.Filing object at 0x000001972126DFD0>, <model.Filing object at 0x000001972126DD10>, <model.Filing object at 0x000001972126E410>, <model.Filing object at 0x000001972126DB90>, <model.Filing object at 0x000001972126D950>, <model.Filing object at 0x000001972126D890>, <model.Filing object at 0x000001972126D810>, <model.Filing object at 0x000001972126D7D0>, <model.Filing object at 0x000001972126D790>, <model.Filing object at 0x000001972126D710>, <model.Filing object at 0x000001972126D850>, <model.Filing object at 0x000001972126D590>, <model.Filing object at 0x000001972126D550>, <model.Filing object at 0x000001972126D750>, <model.Filing object at 0x000001972126D450>, <model.Filing object at 0x000001972126D510>, <model.Filing object at 0x000001972126D4D0>, <model.Filing object at 0x000001972126D410>, <model.Filing object at 0x000001972126D350>, <model.Filing object at 0x000001972126D3D0>, <model.Filing object at 0x000001972126DCD0>, <model.Filing object at 0x000001972126DC50>, <model.Filing object at 0x000001972126E190>, <model.Filing object at 0x000001972126E0D0>, <model.Filing object at 0x000001972126DF90>, <model.Filing object at 0x000001972126EDD0>, <model.Filing object at 0x000001972126ED10>, <model.Filing object at 0x000001972126EC90>, <model.Filing object at 0x000001972126E690>, <model.Filing object at 0x000001972126E790>, <model.Filing object at 0x000001972126E750>, <model.Filing object at 0x000001972126E710>, <model.Filing object at 0x000001972126E250>, <model.Filing object at 0x000001972126E210>, <model.Filing object at 0x000001972126E290>, <model.Filing object at 0x000001972126E390>, <model.Filing object at 0x000001972126E2D0>, <model.Filing object at 0x000001972126E350>, <model.Filing object at 0x000001972126DE10>, <model.Filing object at 0x000001972126DE50>, <model.Filing object at 0x000001972126DDD0>, <model.Filing object at 0x000001972126D8D0>, <model.Filing object at 0x000001972126F910>, <model.Filing object at 0x000001972126E490>, <model.Filing object at 0x000001972126D910>, <model.Filing object at 0x000001972126DA50>, <model.Filing object at 0x000001972126D9D0>, <model.Filing object at 0x000001972126D990>, <model.Filing object at 0x000001972126DA10>, <model.Filing object at 0x000001972126DAD0>, <model.Filing object at 0x000001972126DC90>, <model.Filing object at 0x000001972126DBD0>, <model.Filing object at 0x000001972126DC10>, <model.Filing object at 0x000001972126F110>, <model.Filing object at 0x000001972126FCD0>, <model.Filing object at 0x000001972126D190>, <model.Filing object at 0x000001972126D210>, <model.Filing object at 0x000001972126D1D0>, <model.Filing object at 0x000001972126D250>, <model.Filing object at 0x000001972126D2D0>, <model.Filing object at 0x000001972126DD90>, <model.Filing object at 0x000001972126D290>, <model.Filing object at 0x000001972126D310>, <model.Filing object at 0x000001972126D390>, <model.Filing object at 0x000001972126DD50>, <model.Filing object at 0x000001972126EB90>, <model.Filing object at 0x000001972126EA90>, <model.Filing object at 0x000001972126EB50>, <model.Filing object at 0x000001972126E990>, <model.Filing object at 0x000001972126EA10>, <model.Filing object at 0x000001972126EB10>, <model.Filing object at 0x000001972126EA50>, <model.Filing object at 0x000001972126EAD0>, <model.Filing object at 0x000001972126EC10>, <model.Filing object at 0x000001972126F050>, <model.Filing object at 0x000001972126EE50>, <model.Filing object at 0x000001972126EED0>, <model.Filing object at 0x000001972126F290>, <model.Filing object at 0x000001972126EE90>, <model.Filing object at 0x000001972126EF10>, <model.Filing object at 0x000001972126EF90>, <model.Filing object at 0x000001972126EFD0>, <model.Filing object at 0x000001972126EF50>, <model.Filing object at 0x000001971EEF9650>, <model.Filing object at 0x000001971EEFB610>, <model.Filing object at 0x000001971EEF8490>, <model.Filing object at 0x000001971EEFAB50>, <model.Filing object at 0x000001971EEFA810>, <model.Filing object at 0x000001971EEFA890>, <model.Filing object at 0x000001971EEFB950>, <model.Filing object at 0x000001971EEF87D0>, <model.Filing object at 0x000001971EEF85D0>, <model.Filing object at 0x000001971EEFB250>, <model.Filing object at 0x000001971EEFB1D0>, <model.Filing object at 0x000001971EEFAAD0>, <model.Filing object at 0x000001971EEF9790>, <model.Filing object at 0x000001971EEFBC90>, <model.Filing object at 0x000001971EEF9990>, <model.Filing object at 0x000001971EEFBD50>, <model.Filing object at 0x000001971EEF97D0>, <model.Filing object at 0x000001971EEFA090>, <model.Filing object at 0x000001971EEF8410>, <model.Filing object at 0x000001971EEF8210>, <model.Filing object at 0x000001971EEFA910>, <model.Filing object at 0x000001971EEF8450>, <model.Filing object at 0x000001971EEFBC10>, <model.Filing object at 0x000001971EEFA450>, <model.Filing object at 0x000001971EEFA5D0>, <model.Filing object at 0x000001971EEF8810>, <model.Filing object at 0x000001971EEFB590>, <model.Filing object at 0x000001971EEFA390>, <model.Filing object at 0x000001971EEF9F50>, <model.Filing object at 0x000001971EEF9290>, <model.Filing object at 0x000001971EEF8CD0>, <model.Filing object at 0x000001971EEFAE50>, <model.Filing object at 0x000001971EEFBF10>, <model.Filing object at 0x000001971EEFB710>, <model.Filing object at 0x000001971EEFBCD0>, <model.Filing object at 0x000001971EEF9D90>, <model.Filing object at 0x000001971EEF9410>, <model.Filing object at 0x000001971EEFB6D0>, <model.Filing object at 0x000001971EEF9C90>, <model.Filing object at 0x0000019720D51810>, <model.Filing object at 0x000001971C873E90>, <model.Filing object at 0x0000019720E5A6D0>, <model.Filing object at 0x0000019720E5BA50>, <model.Filing object at 0x0000019720E58290>, <model.Filing object at 0x0000019720E5A110>, <model.Filing object at 0x0000019720E58610>, <model.Filing object at 0x0000019720E5AF10>, <model.Filing object at 0x0000019720E5A9D0>, <model.Filing object at 0x0000019720E5A7D0>, <model.Filing object at 0x0000019720E58910>, <model.Filing object at 0x0000019720E5B550>, <model.Filing object at 0x0000019720E58AD0>, <model.Filing object at 0x0000019720E59190>, <model.Filing object at 0x0000019720E5A250>, <model.Filing object at 0x0000019720E586D0>, <model.Filing object at 0x0000019720E59610>, <model.Filing object at 0x0000019720E58B10>, <model.Filing object at 0x0000019720E58A50>, <model.Filing object at 0x0000019720E59850>, <model.Filing object at 0x0000019720E59450>, <model.Filing object at 0x0000019720E5BFD0>, <model.Filing object at 0x0000019720E5A8D0>, <model.Filing object at 0x0000019720E5A550>, <model.Filing object at 0x0000019720E5BC90>, <model.Filing object at 0x0000019720E59FD0>, <model.Filing object at 0x0000019720E59150>, <model.Filing object at 0x0000019720E5B710>, <model.Filing object at 0x0000019720E5AC10>, <model.Filing object at 0x0000019720E5AB10>, <model.Filing object at 0x0000019720E5A450>, <model.Filing object at 0x0000019720E5A310>, <model.Filing object at 0x0000019720E592D0>, <model.Filing object at 0x0000019720E59250>, <model.Filing object at 0x0000019720E59750>, <model.Filing object at 0x0000019720E59490>, <model.Filing object at 0x0000019720E58F10>, <model.Filing object at 0x0000019720E5BF10>, <model.Filing object at 0x000001971E4E5190>, <model.Filing object at 0x000001971E4E48D0>, <model.Filing object at 0x000001971E4E4090>, <model.Filing object at 0x000001971E4E6190>, <model.Filing object at 0x000001971E4E56D0>, <model.Filing object at 0x000001971E4E6350>, <model.Filing object at 0x000001971E4E6210>, <model.Filing object at 0x000001971E4E5C50>, <model.Filing object at 0x000001971E4E60D0>, <model.Filing object at 0x000001971E4E5910>, <model.Filing object at 0x000001971E4E47D0>, <model.Filing object at 0x000001971E4E5E10>, <model.Filing object at 0x000001971E4E4510>, <model.Filing object at 0x000001971E4E5150>, <model.Filing object at 0x000001971E4E4D10>, <model.Filing object at 0x000001971E4E5710>, <model.Filing object at 0x000001971E4E4490>, <model.Filing object at 0x000001971E4E4250>, <model.Filing object at 0x000001971E4E52D0>, <model.Filing object at 0x000001971E4E5C90>, <model.Filing object at 0x000001971E4E4D50>, <model.Filing object at 0x000001971E4E4E90>, <model.Filing object at 0x000001971E4E4F50>, <model.Filing object at 0x000001971E4E4F90>, <model.Filing object at 0x000001971E4E4850>, <model.Filing object at 0x000001971E4E44D0>, <model.Filing object at 0x000001971E4E4A10>, <model.Filing object at 0x000001971E4E4450>, <model.Filing object at 0x000001971E4E5BD0>, <model.Filing object at 0x000001971E4E4550>, <model.Filing object at 0x000001971E4E5F50>, <model.Filing object at 0x000001971E4E4C90>, <model.Filing object at 0x000001971E4E40D0>, <model.Filing object at 0x000001971E4E4710>, <model.Filing object at 0x0000019720EC8ED0>, <model.Filing object at 0x0000019720ECA650>, <model.Filing object at 0x0000019720EC9A10>, <model.Filing object at 0x0000019720ECA3D0>, <model.Filing object at 0x0000019720ECAC50>, <model.Filing object at 0x0000019720ECB150>, <model.Filing object at 0x0000019720ECBE10>, <model.Filing object at 0x0000019720ECBB10>, <model.Filing object at 0x0000019720EC9690>, <model.Filing object at 0x0000019720ECAA10>, <model.Filing object at 0x0000019720EC8650>, <model.Filing object at 0x0000019720ECB6D0>, <model.Filing object at 0x0000019720ECB650>, <model.Filing object at 0x0000019720ECB790>, <model.Filing object at 0x0000019720ECB8D0>, <model.Filing object at 0x0000019720EC9910>, <model.Filing object at 0x0000019720EC9950>, <model.Filing object at 0x0000019720ECA750>, <model.Filing object at 0x0000019720EC98D0>, <model.Filing object at 0x0000019720ECA190>, <model.Filing object at 0x0000019720EC8FD0>, <model.Filing object at 0x0000019720ECB690>, <model.Filing object at 0x0000019720ECBA50>, <model.Filing object at 0x0000019720ECA590>, <model.Filing object at 0x0000019720ECB0D0>, <model.Filing object at 0x0000019720EC8910>, <model.Filing object at 0x0000019720ECBDD0>, <model.Filing object at 0x0000019720ECB2D0>, <model.Filing object at 0x0000019720EC9250>, <model.Filing object at 0x0000019720EC9B50>, <model.Filing object at 0x0000019720ECB950>, <model.Filing object at 0x0000019720ECB850>, <model.Filing object at 0x0000019720EC8DD0>, <model.Filing object at 0x0000019720EC9E90>, <model.Filing object at 0x0000019720EC8F10>, <model.Filing object at 0x0000019720EC9050>, <model.Filing object at 0x0000019720ECAC90>, <model.Filing object at 0x0000019720ECBCD0>, <model.Filing object at 0x0000019720ECAB50>, <model.Filing object at 0x0000019720EC91D0>, <model.Filing object at 0x0000019720ECA110>, <model.Filing object at 0x0000019720ECB990>, <model.Filing object at 0x0000019720EC9610>, <model.Filing object at 0x0000019720EC9490>, <model.Filing object at 0x0000019720ECB210>, <model.Filing object at 0x0000019720ECA310>, <model.Filing object at 0x0000019720EC81D0>, <model.Filing object at 0x0000019720ECB390>, <model.Filing object at 0x0000019720ECA410>, <model.Filing object at 0x0000019720ECA390>, <model.Filing object at 0x0000019720ECA610>, <model.Filing object at 0x0000019720EC8410>, <model.Filing object at 0x0000019720EC9890>, <model.Filing object at 0x0000019720ECADD0>, <model.Filing object at 0x0000019720ECBB50>, <model.Filing object at 0x0000019720EC8510>, <model.Filing object at 0x0000019720EC9390>, <model.Filing object at 0x0000019720EC9CD0>, <model.Filing object at 0x0000019720ECA0D0>, <model.Filing object at 0x0000019720EC9410>, <model.Filing object at 0x0000019720EC9450>, <model.Filing object at 0x0000019720EC89D0>, <model.Filing object at 0x0000019720EC8C10>, <model.Filing object at 0x0000019720EC8350>, <model.Filing object at 0x0000019720EC8810>, <model.Filing object at 0x0000019720EC9190>, <model.Filing object at 0x0000019720EC8B90>, <model.Filing object at 0x0000019720EC9C90>, <model.Filing object at 0x0000019720EC9E10>, <model.Filing object at 0x0000019720ECB350>, <model.Filing object at 0x0000019720ECB3D0>, <model.Filing object at 0x00000197212DE850>, <model.Filing object at 0x00000197212DC710>, <model.Filing object at 0x00000197212DE190>, <model.Filing object at 0x00000197212DE710>, <model.Filing object at 0x00000197212DC410>, <model.Filing object at 0x00000197212DF1D0>, <model.Filing object at 0x00000197212DEE50>, <model.Filing object at 0x00000197212DC210>, <model.Filing object at 0x00000197212DC110>, <model.Filing object at 0x00000197212DF3D0>, <model.Filing object at 0x00000197212DEA10>, <model.Filing object at 0x00000197212DC050>, <model.Filing object at 0x00000197212DEB50>, <model.Filing object at 0x00000197212DEFD0>, <model.Filing object at 0x00000197212DE4D0>, <model.Filing object at 0x00000197212DC510>, <model.Filing object at 0x00000197212DF250>, <model.Filing object at 0x00000197212DEDD0>, <model.Filing object at 0x00000197212DE1D0>, <model.Filing object at 0x00000197212DC290>, <model.Filing object at 0x00000197212DD290>, <model.Filing object at 0x00000197212DE610>, <model.Filing object at 0x00000197212DCF10>, <model.Filing object at 0x00000197212DF110>, <model.Filing object at 0x00000197212DE750>, <model.Filing object at 0x00000197212DDC50>, <model.Filing object at 0x00000197212DDD90>, <model.Filing object at 0x00000197212DE210>, <model.Filing object at 0x00000197212DD590>, <model.Filing object at 0x00000197212DEA50>, <model.Filing object at 0x00000197212DDD50>, <model.Filing object at 0x00000197212DD090>, <model.Filing object at 0x00000197212DE550>, <model.Filing object at 0x00000197212DE690>, <model.Filing object at 0x00000197212DC090>, <model.Filing object at 0x00000197212DD750>, <model.Filing object at 0x00000197212DD390>, <model.Filing object at 0x00000197212DE110>, <model.Filing object at 0x00000197212DD150>, <model.Filing object at 0x00000197212DD9D0>, <model.Filing object at 0x00000197212DF0D0>, <model.Filing object at 0x00000197212DC950>, <model.Filing object at 0x00000197212DD110>, <model.Filing object at 0x00000197212DF310>, <model.Filing object at 0x00000197212DEBD0>, <model.Filing object at 0x00000197212DD3D0>, <model.Filing object at 0x00000197212DCFD0>, <model.Filing object at 0x00000197212DCE50>, <model.Filing object at 0x00000197212DD550>, <model.Filing object at 0x00000197212DCA50>, <model.Filing object at 0x00000197212DD0D0>, <model.Filing object at 0x00000197212DE5D0>, <model.Filing object at 0x00000197212DED50>, <model.Filing object at 0x00000197212DEF10>, <model.Filing object at 0x00000197212DEAD0>, <model.Filing object at 0x00000197212DC7D0>, <model.Filing object at 0x00000197212DC9D0>, <model.Filing object at 0x00000197212DE450>, <model.Filing object at 0x00000197212DC890>, <model.Filing object at 0x00000197212DD010>, <model.Filing object at 0x00000197212DDC10>, <model.Filing object at 0x00000197212DC350>, <model.Filing object at 0x00000197212DDDD0>, <model.Filing object at 0x00000197212DD990>, <model.Filing object at 0x00000197212DDE50>, <model.Filing object at 0x00000197212DF350>, <model.Filing object at 0x00000197212DEE90>, <model.Filing object at 0x00000197212DF590>, <model.Filing object at 0x00000197212DDA90>, <model.Filing object at 0x00000197212DDFD0>, <model.Filing object at 0x00000197212DE810>, <model.Filing object at 0x00000197212DF490>, <model.Filing object at 0x00000197212DD050>, <model.Filing object at 0x00000197212DDED0>, <model.Filing object at 0x00000197212DCCD0>, <model.Filing object at 0x00000197212DDE10>, <model.Filing object at 0x00000197212DD1D0>, <model.Filing object at 0x00000197212DDC90>, <model.Filing object at 0x00000197212DD5D0>, <model.Filing object at 0x00000197212DC310>, <model.Filing object at 0x00000197212DE350>, <model.Filing object at 0x00000197212DD810>, <model.Filing object at 0x00000197212DF390>, <model.Filing object at 0x00000197212DD2D0>, <model.Filing object at 0x00000197212DCED0>, <model.Filing object at 0x00000197212DD910>, <model.Filing object at 0x00000197212DC8D0>, <model.Filing object at 0x00000197212DF010>, <model.Filing object at 0x00000197212DDF10>, <model.Filing object at 0x00000197212DC610>, <model.Filing object at 0x00000197212DD510>, <model.Filing object at 0x00000197212DD650>, <model.Filing object at 0x00000197212DF090>, <model.Filing object at 0x00000197212DCB50>, <model.Filing object at 0x00000197212DCD90>, <model.Filing object at 0x00000197212DE410>, <model.Filing object at 0x00000197212DC550>, <model.Filing object at 0x00000197212DE050>, <model.Filing object at 0x00000197212DCAD0>, <model.Filing object at 0x00000197212DDD10>, <model.Filing object at 0x00000197212DF450>, <model.Filing object at 0x00000197212DF610>, <model.Filing object at 0x00000197212DF5D0>, <model.Filing object at 0x00000197212DF690>, <model.Filing object at 0x00000197212DF6D0>, <model.Filing object at 0x00000197212DF650>, <model.Filing object at 0x00000197212DF750>, <model.Filing object at 0x00000197212DF810>, <model.Filing object at 0x00000197212DF710>, <model.Filing object at 0x00000197212DF790>, <model.Filing object at 0x00000197212DF850>, <model.Filing object at 0x00000197212DF910>, <model.Filing object at 0x00000197212DF7D0>, <model.Filing object at 0x00000197212DF890>, <model.Filing object at 0x00000197212DF950>, <model.Filing object at 0x00000197212DF990>, <model.Filing object at 0x00000197212DF8D0>, <model.Filing object at 0x00000197212DFA10>, <model.Filing object at 0x00000197212DFA50>, <model.Filing object at 0x00000197212DF9D0>, <model.Filing object at 0x00000197212DFAD0>, <model.Filing object at 0x00000197212DFA90>, <model.Filing object at 0x00000197212DFB10>, <model.Filing object at 0x00000197212DFB50>, <model.Filing object at 0x00000197212DFB90>, <model.Filing object at 0x00000197212DFBD0>, <model.Filing object at 0x00000197212DFC10>, <model.Filing object at 0x00000197212DFCD0>, <model.Filing object at 0x00000197212DFC90>, <model.Filing object at 0x00000197212DFD10>, <model.Filing object at 0x00000197212DFDD0>, <model.Filing object at 0x00000197212DFD90>, <model.Filing object at 0x00000197212DFD50>, <model.Filing object at 0x00000197212DFE90>, <model.Filing object at 0x00000197212DFE10>, <model.Filing object at 0x00000197212DFE50>, <model.Filing object at 0x00000197212DFED0>, <model.Filing object at 0x00000197212DFFD0>, <model.Filing object at 0x00000197212DFF50>, <model.Filing object at 0x00000197212DD450>, <model.Filing object at 0x00000197212DFF10>, <model.Filing object at 0x00000197212DFF90>, <model.Filing object at 0x00000197212DCF50>, <model.Filing object at 0x00000197212DCE90>, <model.Filing object at 0x00000197212DD210>, <model.Filing object at 0x00000197212DE390>, <model.Filing object at 0x00000197212DDB10>, <model.Filing object at 0x0000019720FA8550>, <model.Filing object at 0x0000019720FA97D0>, <model.Filing object at 0x0000019720FA8710>, <model.Filing object at 0x0000019720FAA150>, <model.Filing object at 0x0000019720FA9D90>, <model.Filing object at 0x0000019720FA8750>, <model.Filing object at 0x0000019720FA8790>, <model.Filing object at 0x0000019720FA9FD0>, <model.Filing object at 0x0000019720FA9F90>, <model.Filing object at 0x0000019720FA8AD0>, <model.Filing object at 0x0000019720FAAB10>, <model.Filing object at 0x0000019720FA9E50>, <model.Filing object at 0x0000019720FA8910>, <model.Filing object at 0x0000019720FA8290>, <model.Filing object at 0x0000019720FA9550>, <model.Filing object at 0x0000019720FA8110>, <model.Filing object at 0x0000019720FA8690>, <model.Filing object at 0x0000019720FA9650>, <model.Filing object at 0x0000019720FA9790>, <model.Filing object at 0x0000019720FA95D0>, <model.Filing object at 0x0000019720FA9690>, <model.Filing object at 0x0000019720FA9710>, <model.Filing object at 0x0000019720FA9810>, <model.Filing object at 0x0000019720FA9510>, <model.Filing object at 0x0000019720FA9750>, <model.Filing object at 0x0000019720FA96D0>, <model.Filing object at 0x0000019720FA9B10>, <model.Filing object at 0x0000019720FA9AD0>, <model.Filing object at 0x0000019720FA9B90>, <model.Filing object at 0x0000019720FA9C50>, <model.Filing object at 0x0000019720FA9A50>, <model.Filing object at 0x0000019720FA9C10>, <model.Filing object at 0x0000019720FA9B50>, <model.Filing object at 0x0000019720FA92D0>, <model.Filing object at 0x0000019720FA9BD0>, <model.Filing object at 0x0000019720FA9A90>, <model.Filing object at 0x0000019720FAA990>, <model.Filing object at 0x0000019720FAB250>, <model.Filing object at 0x0000019720FAB110>, <model.Filing object at 0x0000019720FAB290>, <model.Filing object at 0x0000019720FAA910>, <model.Filing object at 0x0000019720FAB390>, <model.Filing object at 0x0000019720FAB350>, <model.Filing object at 0x0000019720FAB310>, <model.Filing object at 0x0000019720FAB3D0>, <model.Filing object at 0x0000019720FAB410>, <model.Filing object at 0x0000019720FAA550>, <model.Filing object at 0x0000019720FAAA10>, <model.Filing object at 0x0000019720FA8FD0>, <model.Filing object at 0x0000019720FAAB90>, <model.Filing object at 0x0000019720FA94D0>, <model.Filing object at 0x0000019720FAAC10>, <model.Filing object at 0x0000019720FAAD10>, <model.Filing object at 0x0000019720FAAC50>, <model.Filing object at 0x0000019720FAAD50>, <model.Filing object at 0x0000019720FAAC90>, <model.Filing object at 0x0000019720FAADD0>, <model.Filing object at 0x0000019720FAAE90>, <model.Filing object at 0x0000019720FAA1D0>, <model.Filing object at 0x0000019720FAAB50>, <model.Filing object at 0x0000019720FAA890>, <model.Filing object at 0x0000019720FAA3D0>, <model.Filing object at 0x0000019720FAA850>, <model.Filing object at 0x0000019720FAA8D0>, <model.Filing object at 0x0000019720FAA310>, <model.Filing object at 0x0000019720FAA410>, <model.Filing object at 0x0000019720FAA2D0>, <model.Filing object at 0x0000019720FAA490>, <model.Filing object at 0x0000019720FA9ED0>, <model.Filing object at 0x0000019720FAA450>, <model.Filing object at 0x0000019720FA9E90>, <model.Filing object at 0x0000019720FA9F50>, <model.Filing object at 0x0000019720FA9F10>, <model.Filing object at 0x0000019720FA9910>, <model.Filing object at 0x0000019720FA9890>, <model.Filing object at 0x0000019720FA9950>, <model.Filing object at 0x0000019720FAA790>, <model.Filing object at 0x0000019720FAA4D0>, <model.Filing object at 0x0000019720FAA590>, <model.Filing object at 0x0000019720FAA950>, <model.Filing object at 0x0000019720FAB210>, <model.Filing object at 0x0000019720FAB2D0>, <model.Filing object at 0x0000019720FAB1D0>, <model.Filing object at 0x0000019720FAB090>, <model.Filing object at 0x0000019720FAB150>, <model.Filing object at 0x0000019720FAB190>, <model.Filing object at 0x0000019720FAB010>, <model.Filing object at 0x0000019720FAB050>, <model.Filing object at 0x0000019720FAB0D0>, <model.Filing object at 0x0000019720FAAED0>, <model.Filing object at 0x0000019720FAAF10>, <model.Filing object at 0x0000019720FAAFD0>, <model.Filing object at 0x0000019720FAAF90>, <model.Filing object at 0x0000019720FAAE50>, <model.Filing object at 0x0000019720FAAD90>, <model.Filing object at 0x0000019720FAAF50>, <model.Filing object at 0x0000019720FA9610>, <model.Filing object at 0x0000019720FAA9D0>, <model.Filing object at 0x0000019720FAA250>, <model.Filing object at 0x0000019720FAA6D0>, <model.Filing object at 0x0000019720FAA5D0>, <model.Filing object at 0x0000019720FAA7D0>, <model.Filing object at 0x0000019720FAA610>, <model.Filing object at 0x0000019720FAA810>, <model.Filing object at 0x0000019720FAA650>, <model.Filing object at 0x0000019720FAA690>, <model.Filing object at 0x0000019720FA99D0>, <model.Filing object at 0x0000019720FAA750>, <model.Filing object at 0x0000019720FAA010>, <model.Filing object at 0x0000019720FA9990>, <model.Filing object at 0x0000019720FA9A10>, <model.Filing object at 0x0000019720FA98D0>, <model.Filing object at 0x0000019720FA9850>, <model.Filing object at 0x0000019720FABF10>, <model.Filing object at 0x0000019720FABFD0>, <model.Filing object at 0x0000019720FA88D0>, <model.Filing object at 0x0000019720FABF90>, <model.Filing object at 0x0000019720FABE50>, <model.Filing object at 0x0000019720FABF50>, <model.Filing object at 0x0000019720FA9CD0>, <model.Filing object at 0x0000019720FAA190>, <model.Filing object at 0x00000197212A9C90>, <model.Filing object at 0x00000197212A8D90>, <model.Filing object at 0x00000197212A8890>, <model.Filing object at 0x00000197212A9D10>, <model.Filing object at 0x00000197212A8A50>, <model.Filing object at 0x00000197212A9190>, <model.Filing object at 0x00000197212A97D0>, <model.Filing object at 0x00000197212A9250>, <model.Filing object at 0x00000197212A9010>, <model.Filing object at 0x00000197212A9310>, <model.Filing object at 0x00000197212ABA10>, <model.Filing object at 0x00000197212A9650>, <model.Filing object at 0x00000197212A98D0>, <model.Filing object at 0x00000197212A81D0>, <model.Filing object at 0x00000197212AA790>, <model.Filing object at 0x00000197212A8710>, <model.Filing object at 0x00000197212AA290>, <model.Filing object at 0x0000019720DC9CD0>, <model.Filing object at 0x0000019720DC9ED0>, <model.Filing object at 0x0000019720DCB410>, <model.Filing object at 0x0000019720DC9390>, <model.Filing object at 0x0000019720DC80D0>, <model.Filing object at 0x0000019720DC97D0>, <model.Filing object at 0x0000019720DCBB50>, <model.Filing object at 0x0000019720DCB590>, <model.Filing object at 0x0000019720DC9890>, <model.Filing object at 0x0000019720DC9510>, <model.Filing object at 0x0000019720DCBF10>, <model.Filing object at 0x0000019720F02FD0>, <model.Filing object at 0x0000019720F02910>, <model.Filing object at 0x0000019720F03050>, <model.Filing object at 0x0000019721120350>, <model.Filing object at 0x0000019721121D90>, <model.Filing object at 0x0000019721120490>, <model.Filing object at 0x0000019721121CD0>, <model.Filing object at 0x0000019721120390>, <model.Filing object at 0x0000019721121E10>, <model.Filing object at 0x0000019721121BD0>, <model.Filing object at 0x00000197211222D0>, <model.Filing object at 0x0000019721120410>, <model.Filing object at 0x0000019721123910>, <model.Filing object at 0x0000019721122FD0>, <model.Filing object at 0x0000019721123810>, <model.Filing object at 0x00000197211239D0>, <model.Filing object at 0x0000019721123A50>, <model.Filing object at 0x0000019721123990>, <model.Filing object at 0x0000019721123A10>, <model.Filing object at 0x0000019721123C90>, <model.Filing object at 0x0000019721123950>, <model.Filing object at 0x0000019721123B10>, <model.Filing object at 0x00000197211238D0>, <model.Filing object at 0x0000019721123B50>, <model.Filing object at 0x0000019721123B90>, <model.Filing object at 0x0000019721123BD0>, <model.Filing object at 0x0000019721123AD0>, <model.Filing object at 0x0000019721123A90>, <model.Filing object at 0x0000019721123C10>, <model.Filing object at 0x0000019721123D50>, <model.Filing object at 0x0000019721123D90>, <model.Filing object at 0x0000019721123C50>, <model.Filing object at 0x0000019721123E50>, <model.Filing object at 0x0000019721123CD0>, <model.Filing object at 0x0000019721123D10>, <model.Filing object at 0x0000019721123DD0>, <model.Filing object at 0x0000019721123ED0>, <model.Filing object at 0x0000019721123FD0>, <model.Filing object at 0x0000019721123F10>, <model.Filing object at 0x0000019721123F50>, <model.Filing object at 0x0000019721123E10>, <model.Filing object at 0x0000019721123E90>, <model.Filing object at 0x0000019721123F90>, <model.Filing object at 0x0000019721120150>, <model.Filing object at 0x0000019721123610>, <model.Filing object at 0x0000019721123890>, <model.Filing object at 0x0000019721123750>, <model.Filing object at 0x0000019721123850>, <model.Filing object at 0x00000197211237D0>, <model.Filing object at 0x0000019721123790>, <model.Filing object at 0x0000019721123650>, <model.Filing object at 0x0000019721123450>, <model.Filing object at 0x0000019721123350>, <model.Filing object at 0x0000019721123490>, <model.Filing object at 0x0000019721123510>, <model.Filing object at 0x00000197211234D0>, <model.Filing object at 0x0000019721123310>, <model.Filing object at 0x0000019721123390>, <model.Filing object at 0x0000019721123410>, <model.Filing object at 0x0000019721123150>, <model.Filing object at 0x00000197211232D0>, <model.Filing object at 0x00000197211233D0>, <model.Filing object at 0x00000197211231D0>, <model.Filing object at 0x0000019721123290>, <model.Filing object at 0x0000019721123210>, <model.Filing object at 0x0000019721123190>, <model.Filing object at 0x0000019721123250>, <model.Filing object at 0x0000019721122ED0>, <model.Filing object at 0x0000019721123110>, <model.Filing object at 0x0000019721122F90>, <model.Filing object at 0x00000197211230D0>, <model.Filing object at 0x0000019721123010>, <model.Filing object at 0x0000019721121B90>, <model.Filing object at 0x0000019721123050>, <model.Filing object at 0x0000019721122A10>, <model.Filing object at 0x00000197211229D0>, <model.Filing object at 0x0000019721122C90>, <model.Filing object at 0x0000019721122BD0>, <model.Filing object at 0x0000019721122AD0>, <model.Filing object at 0x0000019721122B50>, <model.Filing object at 0x0000019721122B10>, <model.Filing object at 0x0000019721122A90>, <model.Filing object at 0x0000019721122D90>, <model.Filing object at 0x0000019721122D50>, <model.Filing object at 0x0000019721122B90>, <model.Filing object at 0x0000019721122C50>, <model.Filing object at 0x0000019721122E10>, <model.Filing object at 0x0000019721122D10>, <model.Filing object at 0x0000019721122CD0>, <model.Filing object at 0x0000019721122C10>, <model.Filing object at 0x0000019721122F10>, <model.Filing object at 0x0000019721123090>, <model.Filing object at 0x0000019721122F50>, <model.Filing object at 0x0000019721122A50>, <model.Filing object at 0x0000019721122E90>, <model.Filing object at 0x0000019721122E50>, <model.Filing object at 0x0000019721122DD0>, <model.Filing object at 0x00000197211226D0>, <model.Filing object at 0x0000019721122590>, <model.Filing object at 0x0000019721122510>, <model.Filing object at 0x0000019721122610>, <model.Filing object at 0x0000019721122690>, <model.Filing object at 0x00000197211227D0>, <model.Filing object at 0x0000019721122650>, <model.Filing object at 0x0000019721122710>, <model.Filing object at 0x0000019721122550>, <model.Filing object at 0x00000197211225D0>, <model.Filing object at 0x0000019721122990>, <model.Filing object at 0x0000019721122750>, <model.Filing object at 0x0000019721122850>, <model.Filing object at 0x0000019721122910>, <model.Filing object at 0x00000197211228D0>, <model.Filing object at 0x0000019721122950>, <model.Filing object at 0x0000019721122790>, <model.Filing object at 0x0000019721122810>, <model.Filing object at 0x0000019721122890>, <model.Filing object at 0x0000019721122410>, <model.Filing object at 0x0000019721122490>, <model.Filing object at 0x0000019721122450>, <model.Filing object at 0x00000197211223D0>, <model.Filing object at 0x00000197211224D0>, <model.Filing object at 0x0000019721122390>, <model.Filing object at 0x0000019721121F50>, <model.Filing object at 0x0000019721121F10>, <model.Filing object at 0x00000197211220D0>, <model.Filing object at 0x0000019721121F90>, <model.Filing object at 0x0000019721122090>, <model.Filing object at 0x0000019721121FD0>, <model.Filing object at 0x0000019721122010>, <model.Filing object at 0x0000019721122050>, <model.Filing object at 0x0000019721122110>, <model.Filing object at 0x0000019721122190>, <model.Filing object at 0x0000019721122210>, <model.Filing object at 0x0000019721122250>, <model.Filing object at 0x0000019721122150>, <model.Filing object at 0x0000019721122310>, <model.Filing object at 0x0000019721122350>, <model.Filing object at 0x0000019721122290>, <model.Filing object at 0x00000197211221D0>, <model.Filing object at 0x0000019721121C50>, <model.Filing object at 0x0000019721121C90>, <model.Filing object at 0x0000019721121D10>, <model.Filing object at 0x0000019721121D50>, <model.Filing object at 0x0000019721121E90>, <model.Filing object at 0x0000019721121AD0>, <model.Filing object at 0x0000019721121ED0>, <model.Filing object at 0x0000019721121E50>, <model.Filing object at 0x0000019721121DD0>, <model.Filing object at 0x0000019721120290>, <model.Filing object at 0x0000019721120510>, <model.Filing object at 0x0000019721120450>, <model.Filing object at 0x00000197211203D0>, <model.Filing object at 0x0000019721120310>, <model.Filing object at 0x00000197211205D0>, <model.Filing object at 0x0000019721120610>, <model.Filing object at 0x0000019721120590>, <model.Filing object at 0x0000019721120550>, <model.Filing object at 0x00000197211204D0>, <model.Filing object at 0x0000019721120650>, <model.Filing object at 0x0000019721120790>, <model.Filing object at 0x0000019721120710>, <model.Filing object at 0x00000197211207D0>, <model.Filing object at 0x0000019721120810>, <model.Filing object at 0x0000019721120750>, <model.Filing object at 0x00000197211206D0>, <model.Filing object at 0x00000197211208D0>, <model.Filing object at 0x0000019721120950>, <model.Filing object at 0x0000019721120A10>, <model.Filing object at 0x0000019721120990>, <model.Filing object at 0x0000019721120890>, <model.Filing object at 0x0000019721120910>, <model.Filing object at 0x0000019721120850>, <model.Filing object at 0x0000019721120BD0>, <model.Filing object at 0x00000197211209D0>, <model.Filing object at 0x0000019721120A50>, <model.Filing object at 0x0000019721120B50>, <model.Filing object at 0x0000019721120210>, <model.Filing object at 0x00000197211202D0>, <model.Filing object at 0x0000019721120190>, <model.Filing object at 0x0000019721120110>, <model.Filing object at 0x0000019721120090>, <model.Filing object at 0x0000019721120250>, <model.Filing object at 0x00000197211201D0>, <model.Filing object at 0x0000019721120050>, <model.Filing object at 0x00000197211200D0>, <model.Filing object at 0x0000019721121A10>, <model.Filing object at 0x0000019721121A90>, <model.Filing object at 0x00000197211219D0>, <model.Filing object at 0x0000019721121B10>, <model.Filing object at 0x0000019721121C10>, <model.Filing object at 0x0000019721121B50>, <model.Filing object at 0x0000019721121810>, <model.Filing object at 0x00000197211218D0>, <model.Filing object at 0x0000019721121A50>, <model.Filing object at 0x0000019721121910>, <model.Filing object at 0x0000019721121990>, <model.Filing object at 0x0000019721121850>, <model.Filing object at 0x0000019721121950>, <model.Filing object at 0x0000019721121890>, <model.Filing object at 0x00000197211216D0>, <model.Filing object at 0x0000019721121690>, <model.Filing object at 0x0000019721121710>, <model.Filing object at 0x00000197211217D0>, <model.Filing object at 0x0000019721121790>, <model.Filing object at 0x0000019721121750>, <model.Filing object at 0x0000019721121650>, <model.Filing object at 0x00000197211214D0>, <model.Filing object at 0x0000019721121510>, <model.Filing object at 0x0000019721121590>, <model.Filing object at 0x0000019721121550>, <model.Filing object at 0x00000197211215D0>, <model.Filing object at 0x0000019721121610>, <model.Filing object at 0x0000019721121490>, <model.Filing object at 0x00000197211212D0>, <model.Filing object at 0x0000019721121390>, <model.Filing object at 0x0000019721121410>, <model.Filing object at 0x00000197211213D0>, <model.Filing object at 0x00000197211210D0>, <model.Filing object at 0x0000019721120C10>, <model.Filing object at 0x0000019721121310>, <model.Filing object at 0x0000019721121450>, <model.Filing object at 0x0000019721121150>, <model.Filing object at 0x0000019721121250>, <model.Filing object at 0x0000019721121290>, <model.Filing object at 0x0000019721121190>, <model.Filing object at 0x0000019721121350>, <model.Filing object at 0x00000197211211D0>, <model.Filing object at 0x0000019721121050>, <model.Filing object at 0x0000019721120FD0>, <model.Filing object at 0x0000019721120F10>, <model.Filing object at 0x0000019721121090>, <model.Filing object at 0x0000019721121010>, <model.Filing object at 0x0000019721120D90>, <model.Filing object at 0x0000019721121110>, <model.Filing object at 0x0000019721120E50>, <model.Filing object at 0x0000019721120ED0>, <model.Filing object at 0x0000019721120E90>, <model.Filing object at 0x0000019721120F50>, <model.Filing object at 0x0000019721120E10>, <model.Filing object at 0x0000019721120F90>, <model.Filing object at 0x0000019721120CD0>, <model.Filing object at 0x0000019721120D50>, <model.Filing object at 0x0000019721120C90>, <model.Filing object at 0x0000019721120D10>, <model.Filing object at 0x0000019721120DD0>, <model.Filing object at 0x0000019721120C50>, <model.Filing object at 0x0000019721120AD0>, <model.Filing object at 0x0000019721120A90>, <model.Filing object at 0x0000019721120B10>, <model.Filing object at 0x0000019721120B90>, <model.Filing object at 0x000001971CB532D0>, <model.Filing object at 0x000001971C49AF10>, <model.Filing object at 0x000001971C49BA10>, <model.Filing object at 0x0000019720EB8490>, <model.Filing object at 0x0000019720EB80D0>, <model.Filing object at 0x0000019720EBBC10>, <model.Filing object at 0x0000019720EB8C90>, <model.Filing object at 0x0000019720EB8290>, <model.Filing object at 0x0000019720EB9250>, <model.Filing object at 0x0000019720EB8510>, <model.Filing object at 0x0000019720EB8350>, <model.Filing object at 0x0000019720EBBC50>, <model.Filing object at 0x0000019720EBBFD0>, <model.Filing object at 0x0000019720EB9210>, <model.Filing object at 0x0000019720EBBD90>, <model.Filing object at 0x0000019720EBBF90>, <model.Filing object at 0x0000019720EB8E10>, <model.Filing object at 0x0000019720EB8650>, <model.Filing object at 0x0000019720EB85D0>, <model.Filing object at 0x0000019720EB9150>, <model.Filing object at 0x0000019720EBBE10>, <model.Filing object at 0x0000019720EB8190>, <model.Filing object at 0x0000019720EB8890>, <model.Filing object at 0x0000019720EBBF50>, <model.Filing object at 0x0000019720EB9090>, <model.Filing object at 0x0000019720EB8690>, <model.Filing object at 0x0000019720EB9190>, <model.Filing object at 0x0000019720EB8A10>, <model.Filing object at 0x0000019720EB9050>, <model.Filing object at 0x0000019720EB89D0>, <model.Filing object at 0x0000019720EB8FD0>, <model.Filing object at 0x0000019720EB88D0>, <model.Filing object at 0x0000019720EBBDD0>, <model.Filing object at 0x0000019720EB8850>, <model.Filing object at 0x0000019720EBBD10>, <model.Filing object at 0x0000019720EB8B90>, <model.Filing object at 0x0000019720EBBE50>, <model.Filing object at 0x0000019720EB8590>, <model.Filing object at 0x0000019720EBBC90>, <model.Filing object at 0x0000019720EBBCD0>, <model.Filing object at 0x0000019720EB8550>, <model.Filing object at 0x0000019720EB8D90>, <model.Filing object at 0x0000019720EB8F10>, <model.Filing object at 0x0000019720EB8AD0>, <model.Filing object at 0x0000019720EBBED0>, <model.Filing object at 0x0000019720EB8C10>, <model.Filing object at 0x0000019720EB8610>, <model.Filing object at 0x0000019720EB86D0>, <model.Filing object at 0x0000019720EB8390>, <model.Filing object at 0x0000019720EBBD50>, <model.Filing object at 0x0000019720EB8C50>, <model.Filing object at 0x000001971E54D850>, <model.Filing object at 0x000001971E54CDD0>, <model.Filing object at 0x000001971E54E610>, <model.Filing object at 0x000001971E56C110>, <model.Filing object at 0x000001971E56D350>, <model.Filing object at 0x000001971E56C090>, <model.Filing object at 0x000001971E56C510>, <model.Filing object at 0x000001971E56D910>, <model.Filing object at 0x000001971E56C890>, <model.Filing object at 0x000001971E56D590>, <model.Filing object at 0x000001971E56CE10>, <model.Filing object at 0x000001971E56CF90>, <model.Filing object at 0x000001971E56D0D0>, <model.Filing object at 0x000001971E56CC50>, <model.Filing object at 0x000001971E56D250>, <model.Filing object at 0x000001971E56CCD0>, <model.Filing object at 0x000001971E56CD10>, <model.Filing object at 0x000001971E56CE50>, <model.Filing object at 0x000001971E56C7D0>, <model.Filing object at 0x000001971E56CD90>, <model.Filing object at 0x000001971E56CC10>, <model.Filing object at 0x000001971E56CA50>, <model.Filing object at 0x000001971E56D9D0>, <model.Filing object at 0x000001971E56DE50>, <model.Filing object at 0x000001971E56D550>, <model.Filing object at 0x000001971E56D090>, <model.Filing object at 0x000001971E56C690>, <model.Filing object at 0x000001971E56CA10>, <model.Filing object at 0x000001971E56CE90>, <model.Filing object at 0x000001971E56D3D0>, <model.Filing object at 0x000001971E56C950>, <model.Filing object at 0x00000197212C6990>, <model.Filing object at 0x00000197212C68D0>, <model.Filing object at 0x00000197212C6610>, <model.Filing object at 0x00000197212C65D0>, <model.Filing object at 0x00000197212C6550>, <model.Filing object at 0x00000197212C64D0>, <model.Filing object at 0x00000197212C6510>, <model.Filing object at 0x00000197212C6490>, <model.Filing object at 0x00000197212C6750>, <model.Filing object at 0x00000197212C7E90>, <model.Filing object at 0x00000197212C6190>, <model.Filing object at 0x00000197212C66D0>, <model.Filing object at 0x00000197212C6710>, <model.Filing object at 0x00000197212C6A10>, <model.Filing object at 0x00000197212C69D0>, <model.Filing object at 0x00000197212C67D0>, <model.Filing object at 0x00000197212C79D0>, <model.Filing object at 0x00000197212C7C50>, <model.Filing object at 0x00000197212C7D90>, <model.Filing object at 0x00000197212C6ED0>, <model.Filing object at 0x00000197212C6F10>, <model.Filing object at 0x00000197212C77D0>, <model.Filing object at 0x00000197212C6E10>, <model.Filing object at 0x00000197212C7A50>, <model.Filing object at 0x00000197212C6E50>, <model.Filing object at 0x00000197212C75D0>, <model.Filing object at 0x00000197212C7390>, <model.Filing object at 0x00000197212C72D0>, <model.Filing object at 0x00000197212C7290>, <model.Filing object at 0x00000197212C7210>, <model.Filing object at 0x00000197212C7190>, <model.Filing object at 0x00000197212C6DD0>, <model.Filing object at 0x00000197212C6CD0>, <model.Filing object at 0x00000197212C6D90>, <model.Filing object at 0x00000197212C6C10>, <model.Filing object at 0x00000197212C7B90>, <model.Filing object at 0x00000197212C6C50>, <model.Filing object at 0x00000197212C7CD0>, <model.Filing object at 0x00000197212C6C90>, <model.Filing object at 0x00000197212C7B10>, <model.Filing object at 0x00000197212C6D10>, <model.Filing object at 0x00000197212C7810>, <model.Filing object at 0x00000197212C7650>, <model.Filing object at 0x00000197212C7790>, <model.Filing object at 0x00000197212C7690>, <model.Filing object at 0x00000197212C6250>, <model.Filing object at 0x00000197212C74D0>, <model.Filing object at 0x00000197212C7910>, <model.Filing object at 0x00000197212C6D50>, <model.Filing object at 0x00000197212C7310>, <model.Filing object at 0x00000197212C7250>, <model.Filing object at 0x00000197212C7450>, <model.Filing object at 0x00000197212C7B50>, <model.Filing object at 0x00000197212C7F50>, <model.Filing object at 0x00000197212C7ED0>, <model.Filing object at 0x00000197212C4CD0>, <model.Filing object at 0x00000197212C7E50>, <model.Filing object at 0x00000197212C78D0>, <model.Filing object at 0x00000197212C7990>, <model.Filing object at 0x00000197212C7710>, <model.Filing object at 0x00000197212C7850>, <model.Filing object at 0x00000197212C7750>, <model.Filing object at 0x00000197212C76D0>, <model.Filing object at 0x00000197212C7A10>, <model.Filing object at 0x00000197212C7110>, <model.Filing object at 0x00000197212C7410>, <model.Filing object at 0x00000197212C5710>, <model.Filing object at 0x00000197212C7F10>, <model.Filing object at 0x00000197212C6E90>, <model.Filing object at 0x00000197212C7890>, <model.Filing object at 0x00000197212C7550>, <model.Filing object at 0x00000197212C7F90>, <model.Filing object at 0x00000197212C7590>, <model.Filing object at 0x00000197212C7D50>, <model.Filing object at 0x00000197212C70D0>, <model.Filing object at 0x00000197212C6FD0>, <model.Filing object at 0x00000197212C7010>, <model.Filing object at 0x00000197212C6F90>, <model.Filing object at 0x00000197212C6F50>, <model.Filing object at 0x00000197212C71D0>, <model.Filing object at 0x00000197212C7050>, <model.Filing object at 0x00000197212C7090>, <model.Filing object at 0x00000197212C7150>, <model.Filing object at 0x00000197212C7BD0>, <model.Filing object at 0x00000197212C73D0>, <model.Filing object at 0x00000197212C4C50>, <model.Filing object at 0x00000197212C7510>, <model.Filing object at 0x00000197212C7490>, <model.Filing object at 0x00000197212C7950>, <model.Filing object at 0x00000197212C7A90>, <model.Filing object at 0x00000197212C7C90>]\n"
     ]
    }
   ],
   "source": [
    "print(aapl.filings)"
   ]
  },
  {
   "cell_type": "code",
   "execution_count": 109,
   "metadata": {},
   "outputs": [],
   "source": [
    "def get_annual_filing(aapl):\n",
    "    for filing in aapl.filings:\n",
    "        if filing.form == \"10-K\":\n",
    "            return filing\n",
    "        "
   ]
  },
  {
   "cell_type": "code",
   "execution_count": 110,
   "metadata": {},
   "outputs": [
    {
     "name": "stdout",
     "output_type": "stream",
     "text": [
      "returning filings\n"
     ]
    }
   ],
   "source": [
    "filing = get_annual_filing(aapl)"
   ]
  },
  {
   "cell_type": "code",
   "execution_count": 111,
   "metadata": {},
   "outputs": [
    {
     "name": "stdout",
     "output_type": "stream",
     "text": [
      "0000320193\n",
      "0000320193-24-000123\n",
      "aapl-20240928.htm\n"
     ]
    }
   ],
   "source": [
    "print(filing.cik)\n",
    "print(filing.accession_number)\n",
    "print(filing.primary_document)\n"
   ]
  },
  {
   "cell_type": "code",
   "execution_count": null,
   "metadata": {},
   "outputs": [],
   "source": []
  },
  {
   "cell_type": "code",
   "execution_count": null,
   "metadata": {},
   "outputs": [
    {
     "name": "stdout",
     "output_type": "stream",
     "text": [
      "Filing data saved to AAPL_10Q_20241101_data.json\n"
     ]
    }
   ],
   "source": [
    "# import json\n",
    "# import os\n",
    "# from datetime import datetime\n",
    "\n",
    "# # Get the filing data\n",
    "# filing_data = filing.data\n",
    "\n",
    "# # Create a filename with company ticker, form type, and filing date\n",
    "# filename = f\"AAPL_10Q_{filing.filing_date.replace('-', '')}_data.json\"\n",
    "\n",
    "# # Save the filing data to a JSON file\n",
    "# with open(filename, 'w') as f:\n",
    "#     json.dump(filing_data, f, indent=4)\n",
    "\n",
    "# print(f\"Filing data saved to {filename}\")\n"
   ]
  },
  {
   "cell_type": "code",
   "execution_count": 113,
   "metadata": {},
   "outputs": [],
   "source": [
    "df = filing.income_statement.table"
   ]
  },
  {
   "cell_type": "code",
   "execution_count": 114,
   "metadata": {},
   "outputs": [
    {
     "data": {
      "text/plain": [
       "Index(['2021-09-26:2022-09-24', '2022-09-25:2023-09-30',\n",
       "       '2023-10-01:2024-09-28'],\n",
       "      dtype='object', name='date_range')"
      ]
     },
     "execution_count": 114,
     "metadata": {},
     "output_type": "execute_result"
    }
   ],
   "source": [
    "df.columns"
   ]
  },
  {
   "cell_type": "code",
   "execution_count": 115,
   "metadata": {},
   "outputs": [
    {
     "data": {
      "text/html": [
       "<div>\n",
       "<style scoped>\n",
       "    .dataframe tbody tr th:only-of-type {\n",
       "        vertical-align: middle;\n",
       "    }\n",
       "\n",
       "    .dataframe tbody tr th {\n",
       "        vertical-align: top;\n",
       "    }\n",
       "\n",
       "    .dataframe thead th {\n",
       "        text-align: right;\n",
       "    }\n",
       "</style>\n",
       "<table border=\"1\" class=\"dataframe\">\n",
       "  <thead>\n",
       "    <tr style=\"text-align: right;\">\n",
       "      <th>date_range</th>\n",
       "      <th>2021-09-26:2022-09-24</th>\n",
       "      <th>2022-09-25:2023-09-30</th>\n",
       "      <th>2023-10-01:2024-09-28</th>\n",
       "    </tr>\n",
       "    <tr>\n",
       "      <th>metric</th>\n",
       "      <th></th>\n",
       "      <th></th>\n",
       "      <th></th>\n",
       "    </tr>\n",
       "  </thead>\n",
       "  <tbody>\n",
       "    <tr>\n",
       "      <th>CostOfGoodsAndServicesSold</th>\n",
       "      <td>2.235460e+11</td>\n",
       "      <td>2.141370e+11</td>\n",
       "      <td>2.103520e+11</td>\n",
       "    </tr>\n",
       "    <tr>\n",
       "      <th>EarningsPerShareBasic</th>\n",
       "      <td>6.150000e+00</td>\n",
       "      <td>6.160000e+00</td>\n",
       "      <td>6.110000e+00</td>\n",
       "    </tr>\n",
       "    <tr>\n",
       "      <th>EarningsPerShareDiluted</th>\n",
       "      <td>6.110000e+00</td>\n",
       "      <td>6.130000e+00</td>\n",
       "      <td>6.080000e+00</td>\n",
       "    </tr>\n",
       "    <tr>\n",
       "      <th>GrossProfit</th>\n",
       "      <td>1.707820e+11</td>\n",
       "      <td>1.691480e+11</td>\n",
       "      <td>1.806830e+11</td>\n",
       "    </tr>\n",
       "    <tr>\n",
       "      <th>IncomeLossFromContinuingOperationsBeforeIncomeTaxesExtraordinaryItemsNoncontrollingInterest</th>\n",
       "      <td>1.191030e+11</td>\n",
       "      <td>1.137360e+11</td>\n",
       "      <td>1.234850e+11</td>\n",
       "    </tr>\n",
       "    <tr>\n",
       "      <th>IncomeTaxExpenseBenefit</th>\n",
       "      <td>1.930000e+10</td>\n",
       "      <td>1.674100e+10</td>\n",
       "      <td>2.974900e+10</td>\n",
       "    </tr>\n",
       "    <tr>\n",
       "      <th>NetIncomeLoss</th>\n",
       "      <td>9.980300e+10</td>\n",
       "      <td>9.699500e+10</td>\n",
       "      <td>9.373600e+10</td>\n",
       "    </tr>\n",
       "    <tr>\n",
       "      <th>NonoperatingIncomeExpense</th>\n",
       "      <td>-3.340000e+08</td>\n",
       "      <td>-5.650000e+08</td>\n",
       "      <td>2.690000e+08</td>\n",
       "    </tr>\n",
       "    <tr>\n",
       "      <th>OperatingExpenses</th>\n",
       "      <td>5.134500e+10</td>\n",
       "      <td>5.484700e+10</td>\n",
       "      <td>5.746700e+10</td>\n",
       "    </tr>\n",
       "    <tr>\n",
       "      <th>OperatingIncomeLoss</th>\n",
       "      <td>1.194370e+11</td>\n",
       "      <td>1.143010e+11</td>\n",
       "      <td>1.232160e+11</td>\n",
       "    </tr>\n",
       "    <tr>\n",
       "      <th>ResearchAndDevelopmentExpense</th>\n",
       "      <td>2.625100e+10</td>\n",
       "      <td>2.991500e+10</td>\n",
       "      <td>3.137000e+10</td>\n",
       "    </tr>\n",
       "    <tr>\n",
       "      <th>RevenueFromContractWithCustomerExcludingAssessedTax</th>\n",
       "      <td>3.943280e+11</td>\n",
       "      <td>3.832850e+11</td>\n",
       "      <td>3.910350e+11</td>\n",
       "    </tr>\n",
       "    <tr>\n",
       "      <th>SellingGeneralAndAdministrativeExpense</th>\n",
       "      <td>2.509400e+10</td>\n",
       "      <td>2.493200e+10</td>\n",
       "      <td>2.609700e+10</td>\n",
       "    </tr>\n",
       "    <tr>\n",
       "      <th>WeightedAverageNumberOfDilutedSharesOutstanding</th>\n",
       "      <td>1.632582e+10</td>\n",
       "      <td>1.581255e+10</td>\n",
       "      <td>1.540810e+10</td>\n",
       "    </tr>\n",
       "    <tr>\n",
       "      <th>WeightedAverageNumberOfSharesOutstandingBasic</th>\n",
       "      <td>1.621596e+10</td>\n",
       "      <td>1.574423e+10</td>\n",
       "      <td>1.534378e+10</td>\n",
       "    </tr>\n",
       "  </tbody>\n",
       "</table>\n",
       "</div>"
      ],
      "text/plain": [
       "date_range                                          2021-09-26:2022-09-24  \\\n",
       "metric                                                                      \n",
       "CostOfGoodsAndServicesSold                                   2.235460e+11   \n",
       "EarningsPerShareBasic                                        6.150000e+00   \n",
       "EarningsPerShareDiluted                                      6.110000e+00   \n",
       "GrossProfit                                                  1.707820e+11   \n",
       "IncomeLossFromContinuingOperationsBeforeIncomeT...           1.191030e+11   \n",
       "IncomeTaxExpenseBenefit                                      1.930000e+10   \n",
       "NetIncomeLoss                                                9.980300e+10   \n",
       "NonoperatingIncomeExpense                                   -3.340000e+08   \n",
       "OperatingExpenses                                            5.134500e+10   \n",
       "OperatingIncomeLoss                                          1.194370e+11   \n",
       "ResearchAndDevelopmentExpense                                2.625100e+10   \n",
       "RevenueFromContractWithCustomerExcludingAssesse...           3.943280e+11   \n",
       "SellingGeneralAndAdministrativeExpense                       2.509400e+10   \n",
       "WeightedAverageNumberOfDilutedSharesOutstanding              1.632582e+10   \n",
       "WeightedAverageNumberOfSharesOutstandingBasic                1.621596e+10   \n",
       "\n",
       "date_range                                          2022-09-25:2023-09-30  \\\n",
       "metric                                                                      \n",
       "CostOfGoodsAndServicesSold                                   2.141370e+11   \n",
       "EarningsPerShareBasic                                        6.160000e+00   \n",
       "EarningsPerShareDiluted                                      6.130000e+00   \n",
       "GrossProfit                                                  1.691480e+11   \n",
       "IncomeLossFromContinuingOperationsBeforeIncomeT...           1.137360e+11   \n",
       "IncomeTaxExpenseBenefit                                      1.674100e+10   \n",
       "NetIncomeLoss                                                9.699500e+10   \n",
       "NonoperatingIncomeExpense                                   -5.650000e+08   \n",
       "OperatingExpenses                                            5.484700e+10   \n",
       "OperatingIncomeLoss                                          1.143010e+11   \n",
       "ResearchAndDevelopmentExpense                                2.991500e+10   \n",
       "RevenueFromContractWithCustomerExcludingAssesse...           3.832850e+11   \n",
       "SellingGeneralAndAdministrativeExpense                       2.493200e+10   \n",
       "WeightedAverageNumberOfDilutedSharesOutstanding              1.581255e+10   \n",
       "WeightedAverageNumberOfSharesOutstandingBasic                1.574423e+10   \n",
       "\n",
       "date_range                                          2023-10-01:2024-09-28  \n",
       "metric                                                                     \n",
       "CostOfGoodsAndServicesSold                                   2.103520e+11  \n",
       "EarningsPerShareBasic                                        6.110000e+00  \n",
       "EarningsPerShareDiluted                                      6.080000e+00  \n",
       "GrossProfit                                                  1.806830e+11  \n",
       "IncomeLossFromContinuingOperationsBeforeIncomeT...           1.234850e+11  \n",
       "IncomeTaxExpenseBenefit                                      2.974900e+10  \n",
       "NetIncomeLoss                                                9.373600e+10  \n",
       "NonoperatingIncomeExpense                                    2.690000e+08  \n",
       "OperatingExpenses                                            5.746700e+10  \n",
       "OperatingIncomeLoss                                          1.232160e+11  \n",
       "ResearchAndDevelopmentExpense                                3.137000e+10  \n",
       "RevenueFromContractWithCustomerExcludingAssesse...           3.910350e+11  \n",
       "SellingGeneralAndAdministrativeExpense                       2.609700e+10  \n",
       "WeightedAverageNumberOfDilutedSharesOutstanding              1.540810e+10  \n",
       "WeightedAverageNumberOfSharesOutstandingBasic                1.534378e+10  "
      ]
     },
     "execution_count": 115,
     "metadata": {},
     "output_type": "execute_result"
    }
   ],
   "source": [
    "df"
   ]
  }
 ],
 "metadata": {
  "kernelspec": {
   "display_name": ".venv",
   "language": "python",
   "name": "python3"
  },
  "language_info": {
   "codemirror_mode": {
    "name": "ipython",
    "version": 3
   },
   "file_extension": ".py",
   "mimetype": "text/x-python",
   "name": "python",
   "nbconvert_exporter": "python",
   "pygments_lexer": "ipython3",
   "version": "3.11.9"
  }
 },
 "nbformat": 4,
 "nbformat_minor": 2
}
