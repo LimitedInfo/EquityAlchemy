{
 "cells": [
  {
   "cell_type": "code",
   "execution_count": 17,
   "metadata": {},
   "outputs": [
    {
     "data": {
      "text/plain": [
       "<module 'backend.service_layer.service' from 'c:\\\\Users\\\\Site Oracle\\\\reduceComplexity\\\\backend\\\\service_layer\\\\service.py'>"
      ]
     },
     "execution_count": 17,
     "metadata": {},
     "output_type": "execute_result"
    }
   ],
   "source": [
    "import requests\n",
    "from abc import ABC, abstractmethod\n",
    "from typing import List, Optional\n",
    "import importlib\n",
    "import backend.adapters.repository as repository\n",
    "import backend.domain.model as model\n",
    "import backend.service_layer.service as service\n",
    "import backend.service_layer.uow as uow\n",
    "from sec_api import XbrlApi\n",
    "import os\n",
    "\n",
    "importlib.reload(repository)\n",
    "importlib.reload(model)\n",
    "importlib.reload(service)"
   ]
  },
  {
   "cell_type": "code",
   "execution_count": 18,
   "metadata": {},
   "outputs": [],
   "source": [
    "from backend.domain.model import Company, Filing"
   ]
  },
  {
   "cell_type": "code",
   "execution_count": 19,
   "metadata": {},
   "outputs": [],
   "source": [
    "uow_instance = uow.UnitOfWork()\n",
    "company = service.get_company_by_ticker('GES', uow_instance)\n"
   ]
  },
  {
   "cell_type": "code",
   "execution_count": 20,
   "metadata": {},
   "outputs": [],
   "source": [
    "company.filings = company.get_filings_by_type('10-K')"
   ]
  },
  {
   "cell_type": "code",
   "execution_count": 21,
   "metadata": {},
   "outputs": [
    {
     "data": {
      "text/plain": [
       "[<backend.domain.model.Filing at 0x1d799b2c4d0>,\n",
       " <backend.domain.model.Filing at 0x1d7a6167d90>,\n",
       " <backend.domain.model.Filing at 0x1d7a6167010>,\n",
       " <backend.domain.model.Filing at 0x1d7a61671d0>,\n",
       " <backend.domain.model.Filing at 0x1d7a6167090>,\n",
       " <backend.domain.model.Filing at 0x1d7a6166d50>,\n",
       " <backend.domain.model.Filing at 0x1d7a6166810>,\n",
       " <backend.domain.model.Filing at 0x1d7a6166650>,\n",
       " <backend.domain.model.Filing at 0x1d7a6166610>,\n",
       " <backend.domain.model.Filing at 0x1d7a6166510>,\n",
       " <backend.domain.model.Filing at 0x1d7a61675d0>,\n",
       " <backend.domain.model.Filing at 0x1d7a6167cd0>,\n",
       " <backend.domain.model.Filing at 0x1d7a61676d0>,\n",
       " <backend.domain.model.Filing at 0x1d7a6167310>,\n",
       " <backend.domain.model.Filing at 0x1d7a6166f10>,\n",
       " <backend.domain.model.Filing at 0x1d7a6167790>,\n",
       " <backend.domain.model.Filing at 0x1d7a61669d0>,\n",
       " <backend.domain.model.Filing at 0x1d7a6166a90>,\n",
       " <backend.domain.model.Filing at 0x1d7a61670d0>]"
      ]
     },
     "execution_count": 21,
     "metadata": {},
     "output_type": "execute_result"
    }
   ],
   "source": [
    "company.filings"
   ]
  },
  {
   "cell_type": "code",
   "execution_count": 22,
   "metadata": {},
   "outputs": [
    {
     "name": "stdout",
     "output_type": "stream",
     "text": [
      "Loaded data for filing date 2025-04-11, form 10-K\n"
     ]
    }
   ],
   "source": [
    "# Get data for first 4 filings\n",
    "for filing in company.filings[:1]:\n",
    "    filing.data = uow_instance.sec_filings.get_filing_data(\n",
    "        filing.cik,\n",
    "        filing.accession_number,\n",
    "        filing.primary_document\n",
    "    )\n",
    "    filing.filing_url = uow_instance.sec_filings.get_filing_url(\n",
    "        filing.cik,\n",
    "        filing.accession_number,\n",
    "        filing.primary_document\n",
    "    )\n",
    "    print(f'Loaded data for filing date {filing.filing_date}, form {filing.form}')\n"
   ]
  },
  {
   "cell_type": "code",
   "execution_count": 23,
   "metadata": {},
   "outputs": [
    {
     "name": "stdout",
     "output_type": "stream",
     "text": [
      "Index(['2022-01-30:2023-01-28', '2023-01-29:2024-02-03',\n",
      "       '2024-02-04:2025-02-01'],\n",
      "      dtype='object', name='date_range')\n"
     ]
    },
    {
     "data": {
      "text/html": [
       "<div>\n",
       "<style scoped>\n",
       "    .dataframe tbody tr th:only-of-type {\n",
       "        vertical-align: middle;\n",
       "    }\n",
       "\n",
       "    .dataframe tbody tr th {\n",
       "        vertical-align: top;\n",
       "    }\n",
       "\n",
       "    .dataframe thead th {\n",
       "        text-align: right;\n",
       "    }\n",
       "</style>\n",
       "<table border=\"1\" class=\"dataframe\">\n",
       "  <thead>\n",
       "    <tr style=\"text-align: right;\">\n",
       "      <th>date_range</th>\n",
       "      <th>2022-01-30:2023-01-28</th>\n",
       "      <th>2023-01-29:2024-02-03</th>\n",
       "      <th>2024-02-04:2025-02-01</th>\n",
       "    </tr>\n",
       "    <tr>\n",
       "      <th>metric</th>\n",
       "      <th></th>\n",
       "      <th></th>\n",
       "      <th></th>\n",
       "    </tr>\n",
       "  </thead>\n",
       "  <tbody>\n",
       "    <tr>\n",
       "      <th>AssetImpairmentCharges</th>\n",
       "      <td>9.522000e+06</td>\n",
       "      <td>6.893500e+06</td>\n",
       "      <td>6.612000e+06</td>\n",
       "    </tr>\n",
       "    <tr>\n",
       "      <th>CostOfGoodsAndServicesSold</th>\n",
       "      <td>1.538603e+09</td>\n",
       "      <td>1.553950e+09</td>\n",
       "      <td>1.694283e+09</td>\n",
       "    </tr>\n",
       "    <tr>\n",
       "      <th>EarningsPerShareBasic</th>\n",
       "      <td>2.620000e+00</td>\n",
       "      <td>3.670000e+00</td>\n",
       "      <td>1.150000e+00</td>\n",
       "    </tr>\n",
       "    <tr>\n",
       "      <th>EarningsPerShareDiluted</th>\n",
       "      <td>2.180000e+00</td>\n",
       "      <td>3.090000e+00</td>\n",
       "      <td>7.700000e-01</td>\n",
       "    </tr>\n",
       "    <tr>\n",
       "      <th>GainLossOnTerminationOfLease</th>\n",
       "      <td>2.283500e+06</td>\n",
       "      <td>1.681000e+06</td>\n",
       "      <td>7.090000e+05</td>\n",
       "    </tr>\n",
       "    <tr>\n",
       "      <th>GainsLossesOnExtinguishmentOfDebt</th>\n",
       "      <td>0.000000e+00</td>\n",
       "      <td>-1.235100e+07</td>\n",
       "      <td>-1.952000e+06</td>\n",
       "    </tr>\n",
       "    <tr>\n",
       "      <th>GrossProfit</th>\n",
       "      <td>1.148747e+09</td>\n",
       "      <td>1.222580e+09</td>\n",
       "      <td>1.300990e+09</td>\n",
       "    </tr>\n",
       "    <tr>\n",
       "      <th>IncomeLossFromContinuingOperationsBeforeIncomeTaxesExtraordinaryItemsNoncontrollingInterest</th>\n",
       "      <td>1.980460e+08</td>\n",
       "      <td>2.361350e+08</td>\n",
       "      <td>8.047300e+07</td>\n",
       "    </tr>\n",
       "    <tr>\n",
       "      <th>IncomeLossFromEquityMethodInvestments</th>\n",
       "      <td>0.000000e+00</td>\n",
       "      <td>0.000000e+00</td>\n",
       "      <td>-4.090000e+05</td>\n",
       "    </tr>\n",
       "    <tr>\n",
       "      <th>IncomeTaxExpenseBenefit</th>\n",
       "      <td>3.650200e+07</td>\n",
       "      <td>2.541800e+07</td>\n",
       "      <td>9.695000e+06</td>\n",
       "    </tr>\n",
       "    <tr>\n",
       "      <th>InterestExpenseNonoperating</th>\n",
       "      <td>1.319000e+07</td>\n",
       "      <td>2.181600e+07</td>\n",
       "      <td>3.006700e+07</td>\n",
       "    </tr>\n",
       "    <tr>\n",
       "      <th>InvestmentIncomeInterest</th>\n",
       "      <td>2.885000e+06</td>\n",
       "      <td>1.210000e+07</td>\n",
       "      <td>1.203800e+07</td>\n",
       "    </tr>\n",
       "    <tr>\n",
       "      <th>NetIncomeLoss</th>\n",
       "      <td>1.496100e+08</td>\n",
       "      <td>1.981990e+08</td>\n",
       "      <td>6.042300e+07</td>\n",
       "    </tr>\n",
       "    <tr>\n",
       "      <th>NetIncomeLossAttributableToNoncontrollingInterest</th>\n",
       "      <td>1.193400e+07</td>\n",
       "      <td>1.251800e+07</td>\n",
       "      <td>1.035500e+07</td>\n",
       "    </tr>\n",
       "    <tr>\n",
       "      <th>NonoperatingIncomeExpense</th>\n",
       "      <td>-5.012700e+07</td>\n",
       "      <td>-2.714200e+07</td>\n",
       "      <td>-9.334000e+07</td>\n",
       "    </tr>\n",
       "    <tr>\n",
       "      <th>OperatingIncomeLoss</th>\n",
       "      <td>2.481730e+08</td>\n",
       "      <td>2.632770e+08</td>\n",
       "      <td>1.738130e+08</td>\n",
       "    </tr>\n",
       "    <tr>\n",
       "      <th>OtherNonoperatingIncomeExpense</th>\n",
       "      <td>-3.982200e+07</td>\n",
       "      <td>-5.075000e+06</td>\n",
       "      <td>-7.335900e+07</td>\n",
       "    </tr>\n",
       "    <tr>\n",
       "      <th>ProfitLoss</th>\n",
       "      <td>1.615440e+08</td>\n",
       "      <td>2.107170e+08</td>\n",
       "      <td>7.077800e+07</td>\n",
       "    </tr>\n",
       "    <tr>\n",
       "      <th>RevenueFromContractWithCustomerExcludingAssessedTax</th>\n",
       "      <td>2.687350e+09</td>\n",
       "      <td>2.776530e+09</td>\n",
       "      <td>2.995273e+09</td>\n",
       "    </tr>\n",
       "    <tr>\n",
       "      <th>SaleAndLeasebackTransactionGainLossNet</th>\n",
       "      <td>0.000000e+00</td>\n",
       "      <td>0.000000e+00</td>\n",
       "      <td>1.379050e+07</td>\n",
       "    </tr>\n",
       "    <tr>\n",
       "      <th>SellingGeneralAndAdministrativeExpense</th>\n",
       "      <td>8.932970e+08</td>\n",
       "      <td>9.540780e+08</td>\n",
       "      <td>1.134643e+09</td>\n",
       "    </tr>\n",
       "    <tr>\n",
       "      <th>WeightedAverageNumberOfDilutedSharesOutstanding</th>\n",
       "      <td>7.008700e+07</td>\n",
       "      <td>6.978200e+07</td>\n",
       "      <td>6.859400e+07</td>\n",
       "    </tr>\n",
       "    <tr>\n",
       "      <th>WeightedAverageNumberOfSharesOutstandingBasic</th>\n",
       "      <td>5.648400e+07</td>\n",
       "      <td>5.332900e+07</td>\n",
       "      <td>5.176900e+07</td>\n",
       "    </tr>\n",
       "  </tbody>\n",
       "</table>\n",
       "</div>"
      ],
      "text/plain": [
       "date_range                                          2022-01-30:2023-01-28  \\\n",
       "metric                                                                      \n",
       "AssetImpairmentCharges                                       9.522000e+06   \n",
       "CostOfGoodsAndServicesSold                                   1.538603e+09   \n",
       "EarningsPerShareBasic                                        2.620000e+00   \n",
       "EarningsPerShareDiluted                                      2.180000e+00   \n",
       "GainLossOnTerminationOfLease                                 2.283500e+06   \n",
       "GainsLossesOnExtinguishmentOfDebt                            0.000000e+00   \n",
       "GrossProfit                                                  1.148747e+09   \n",
       "IncomeLossFromContinuingOperationsBeforeIncomeT...           1.980460e+08   \n",
       "IncomeLossFromEquityMethodInvestments                        0.000000e+00   \n",
       "IncomeTaxExpenseBenefit                                      3.650200e+07   \n",
       "InterestExpenseNonoperating                                  1.319000e+07   \n",
       "InvestmentIncomeInterest                                     2.885000e+06   \n",
       "NetIncomeLoss                                                1.496100e+08   \n",
       "NetIncomeLossAttributableToNoncontrollingInterest            1.193400e+07   \n",
       "NonoperatingIncomeExpense                                   -5.012700e+07   \n",
       "OperatingIncomeLoss                                          2.481730e+08   \n",
       "OtherNonoperatingIncomeExpense                              -3.982200e+07   \n",
       "ProfitLoss                                                   1.615440e+08   \n",
       "RevenueFromContractWithCustomerExcludingAssesse...           2.687350e+09   \n",
       "SaleAndLeasebackTransactionGainLossNet                       0.000000e+00   \n",
       "SellingGeneralAndAdministrativeExpense                       8.932970e+08   \n",
       "WeightedAverageNumberOfDilutedSharesOutstanding              7.008700e+07   \n",
       "WeightedAverageNumberOfSharesOutstandingBasic                5.648400e+07   \n",
       "\n",
       "date_range                                          2023-01-29:2024-02-03  \\\n",
       "metric                                                                      \n",
       "AssetImpairmentCharges                                       6.893500e+06   \n",
       "CostOfGoodsAndServicesSold                                   1.553950e+09   \n",
       "EarningsPerShareBasic                                        3.670000e+00   \n",
       "EarningsPerShareDiluted                                      3.090000e+00   \n",
       "GainLossOnTerminationOfLease                                 1.681000e+06   \n",
       "GainsLossesOnExtinguishmentOfDebt                           -1.235100e+07   \n",
       "GrossProfit                                                  1.222580e+09   \n",
       "IncomeLossFromContinuingOperationsBeforeIncomeT...           2.361350e+08   \n",
       "IncomeLossFromEquityMethodInvestments                        0.000000e+00   \n",
       "IncomeTaxExpenseBenefit                                      2.541800e+07   \n",
       "InterestExpenseNonoperating                                  2.181600e+07   \n",
       "InvestmentIncomeInterest                                     1.210000e+07   \n",
       "NetIncomeLoss                                                1.981990e+08   \n",
       "NetIncomeLossAttributableToNoncontrollingInterest            1.251800e+07   \n",
       "NonoperatingIncomeExpense                                   -2.714200e+07   \n",
       "OperatingIncomeLoss                                          2.632770e+08   \n",
       "OtherNonoperatingIncomeExpense                              -5.075000e+06   \n",
       "ProfitLoss                                                   2.107170e+08   \n",
       "RevenueFromContractWithCustomerExcludingAssesse...           2.776530e+09   \n",
       "SaleAndLeasebackTransactionGainLossNet                       0.000000e+00   \n",
       "SellingGeneralAndAdministrativeExpense                       9.540780e+08   \n",
       "WeightedAverageNumberOfDilutedSharesOutstanding              6.978200e+07   \n",
       "WeightedAverageNumberOfSharesOutstandingBasic                5.332900e+07   \n",
       "\n",
       "date_range                                          2024-02-04:2025-02-01  \n",
       "metric                                                                     \n",
       "AssetImpairmentCharges                                       6.612000e+06  \n",
       "CostOfGoodsAndServicesSold                                   1.694283e+09  \n",
       "EarningsPerShareBasic                                        1.150000e+00  \n",
       "EarningsPerShareDiluted                                      7.700000e-01  \n",
       "GainLossOnTerminationOfLease                                 7.090000e+05  \n",
       "GainsLossesOnExtinguishmentOfDebt                           -1.952000e+06  \n",
       "GrossProfit                                                  1.300990e+09  \n",
       "IncomeLossFromContinuingOperationsBeforeIncomeT...           8.047300e+07  \n",
       "IncomeLossFromEquityMethodInvestments                       -4.090000e+05  \n",
       "IncomeTaxExpenseBenefit                                      9.695000e+06  \n",
       "InterestExpenseNonoperating                                  3.006700e+07  \n",
       "InvestmentIncomeInterest                                     1.203800e+07  \n",
       "NetIncomeLoss                                                6.042300e+07  \n",
       "NetIncomeLossAttributableToNoncontrollingInterest            1.035500e+07  \n",
       "NonoperatingIncomeExpense                                   -9.334000e+07  \n",
       "OperatingIncomeLoss                                          1.738130e+08  \n",
       "OtherNonoperatingIncomeExpense                              -7.335900e+07  \n",
       "ProfitLoss                                                   7.077800e+07  \n",
       "RevenueFromContractWithCustomerExcludingAssesse...           2.995273e+09  \n",
       "SaleAndLeasebackTransactionGainLossNet                       1.379050e+07  \n",
       "SellingGeneralAndAdministrativeExpense                       1.134643e+09  \n",
       "WeightedAverageNumberOfDilutedSharesOutstanding              6.859400e+07  \n",
       "WeightedAverageNumberOfSharesOutstandingBasic                5.176900e+07  "
      ]
     },
     "execution_count": 23,
     "metadata": {},
     "output_type": "execute_result"
    }
   ],
   "source": [
    "company.filings[0].income_statement.table"
   ]
  },
  {
   "cell_type": "code",
   "execution_count": 24,
   "metadata": {},
   "outputs": [],
   "source": [
    "def get_skip_amount(last_filing: model.Filing, form_type: str):\n",
    "    if last_filing.data and last_filing.income_statement:\n",
    "        print(f\"Years covered in last filing ({last_filing.filing_date}):\")\n",
    "        print(last_filing.income_statement.table.columns)\n",
    "    else:\n",
    "        last_filing.data = uow_instance.sec_filings.get_filing_data(\n",
    "                                                last_filing.cik,\n",
    "                                                last_filing.accession_number,\n",
    "                                                last_filing.primary_document\n",
    "                                            )\n",
    "        print(last_filing.income_statement.table.columns)\n",
    "    year_interval = len(last_filing.income_statement.table.columns)\n",
    "    return (year_interval - 1) * 3 if form_type == '10-Q' else (year_interval - 1) * 1\n"
   ]
  },
  {
   "cell_type": "code",
   "execution_count": 25,
   "metadata": {},
   "outputs": [],
   "source": [
    "def get_most_recent_filing(filings_list: list[model.Filing], form_type: str):\n",
    "    if form_type == '10-K':\n",
    "        return filings_list[0]\n",
    "    elif form_type == '10-Q':\n",
    "        return filings_list[3]\n"
   ]
  },
  {
   "cell_type": "code",
   "execution_count": 26,
   "metadata": {},
   "outputs": [],
   "source": [
    "def select_filings_with_processing_pattern(\n",
    "    filings_list: List[Filing], \n",
    "    form_type: str\n",
    ") -> List[Filing]:\n",
    "    \n",
    "\n",
    "    if form_type == '10-K':\n",
    "        process_count = 1\n",
    "    elif form_type == '10-Q':\n",
    "        process_count = 3\n",
    "    \n",
    "    skip_count = get_skip_amount(filings_list[0], form_type)\n",
    "    \n",
    "    \n",
    "    if process_count <= 0:\n",
    "        return []\n",
    "\n",
    "    selected = []\n",
    "    idx = 0\n",
    "    total_filings = len(filings_list)\n",
    "\n",
    "    while idx < total_filings:\n",
    "        # Process N filings\n",
    "        end_process_idx = min(idx + process_count, total_filings)\n",
    "        selected.extend(filings_list[idx:end_process_idx])\n",
    "        idx = end_process_idx\n",
    "\n",
    "        # If we've processed all filings, break\n",
    "        if idx >= total_filings:\n",
    "            break\n",
    "\n",
    "        # Skip M filings\n",
    "        idx += skip_count\n",
    "\n",
    "    # Add the last filing if it's not already in the list\n",
    "    if form_type == '10-K':\n",
    "        if filings_list[-1] not in selected:\n",
    "            selected.append(filings_list[-1])\n",
    "    elif form_type == '10-Q':\n",
    "        for filing in filings_list[-3:]:\n",
    "            if filing not in selected:\n",
    "                selected.append(filing)\n",
    "    \n",
    "    return selected"
   ]
  },
  {
   "cell_type": "code",
   "execution_count": 27,
   "metadata": {},
   "outputs": [
    {
     "name": "stdout",
     "output_type": "stream",
     "text": [
      "Years covered in last filing (2025-04-11):\n",
      "Index(['2022-01-30:2023-01-28', '2023-01-29:2024-02-03',\n",
      "       '2024-02-04:2025-02-01'],\n",
      "      dtype='object', name='date_range')\n",
      "Index(['2022-01-30:2023-01-28', '2023-01-29:2024-02-03',\n",
      "       '2024-02-04:2025-02-01'],\n",
      "      dtype='object', name='date_range')\n",
      "Index(['2022-01-30:2023-01-28', '2023-01-29:2024-02-03',\n",
      "       '2024-02-04:2025-02-01'],\n",
      "      dtype='object', name='date_range')\n"
     ]
    }
   ],
   "source": [
    "selected_filings = select_filings_with_processing_pattern(company.filings, '10-K')"
   ]
  },
  {
   "cell_type": "code",
   "execution_count": 28,
   "metadata": {},
   "outputs": [
    {
     "name": "stdout",
     "output_type": "stream",
     "text": [
      "Loaded data for filing date 2025-04-11, form 10-K\n",
      "Loaded data for filing date 2022-03-24, form 10-K\n",
      "Loaded data for filing date 2019-03-29, form 10-K\n",
      "Loaded data for filing date 2016-03-25, form 10-K\n",
      "Loaded data for filing date 2013-04-01, form 10-K\n",
      "Loaded data for filing date 2010-03-31, form 10-K\n",
      "Loaded data for filing date 2007-03-01, form 10-K\n"
     ]
    }
   ],
   "source": [
    "for filing in selected_filings:\n",
    "    print(f'Loaded data for filing date {filing.filing_date}, form {filing.form}')"
   ]
  },
  {
   "cell_type": "code",
   "execution_count": 29,
   "metadata": {},
   "outputs": [
    {
     "name": "stdout",
     "output_type": "stream",
     "text": [
      "Loaded data for filing date 2025-04-11, form 10-K\n",
      "Loaded data for filing date 2024-04-01, form 10-K\n",
      "Loaded data for filing date 2023-03-24, form 10-K\n",
      "Loaded data for filing date 2022-03-24, form 10-K\n",
      "Loaded data for filing date 2021-04-09, form 10-K\n",
      "Loaded data for filing date 2020-04-01, form 10-K\n",
      "Loaded data for filing date 2019-03-29, form 10-K\n",
      "Loaded data for filing date 2018-03-29, form 10-K\n",
      "Loaded data for filing date 2017-03-27, form 10-K\n",
      "Loaded data for filing date 2016-03-25, form 10-K\n",
      "Loaded data for filing date 2015-03-27, form 10-K\n",
      "Loaded data for filing date 2014-03-28, form 10-K\n",
      "Loaded data for filing date 2013-04-01, form 10-K\n",
      "Loaded data for filing date 2012-03-23, form 10-K\n",
      "Loaded data for filing date 2011-03-28, form 10-K\n",
      "Loaded data for filing date 2010-03-31, form 10-K\n",
      "Loaded data for filing date 2009-03-31, form 10-K\n",
      "Loaded data for filing date 2008-04-01, form 10-K\n",
      "Loaded data for filing date 2007-03-01, form 10-K\n"
     ]
    }
   ],
   "source": [
    "for filing in company.filings:\n",
    "    print(f'Loaded data for filing date {filing.filing_date}, form {filing.form}')"
   ]
  },
  {
   "cell_type": "code",
   "execution_count": null,
   "metadata": {},
   "outputs": [],
   "source": []
  },
  {
   "cell_type": "code",
   "execution_count": null,
   "metadata": {},
   "outputs": [],
   "source": []
  },
  {
   "cell_type": "code",
   "execution_count": null,
   "metadata": {},
   "outputs": [],
   "source": []
  },
  {
   "cell_type": "code",
   "execution_count": null,
   "metadata": {},
   "outputs": [],
   "source": []
  },
  {
   "cell_type": "code",
   "execution_count": null,
   "metadata": {},
   "outputs": [],
   "source": []
  },
  {
   "cell_type": "code",
   "execution_count": null,
   "metadata": {},
   "outputs": [],
   "source": []
  }
 ],
 "metadata": {
  "kernelspec": {
   "display_name": ".venv",
   "language": "python",
   "name": "python3"
  },
  "language_info": {
   "codemirror_mode": {
    "name": "ipython",
    "version": 3
   },
   "file_extension": ".py",
   "mimetype": "text/x-python",
   "name": "python",
   "nbconvert_exporter": "python",
   "pygments_lexer": "ipython3",
   "version": "3.11.9"
  }
 },
 "nbformat": 4,
 "nbformat_minor": 2
}
