{
 "cells": [
  {
   "cell_type": "code",
   "execution_count": null,
   "metadata": {},
   "outputs": [],
   "source": [
    "import requests\n",
    "from abc import ABC, abstractmethod\n",
    "from typing import List, Optional\n",
    "import importlib\n",
    "import backend.adapters.repository as repository\n",
    "import backend.domain.model as model\n",
    "import backend.service_layer.service as service\n",
    "import backend.service_layer.uow as uow\n",
    "from sec_api import XbrlApi\n",
    "import pandas as pd\n",
    "import os\n",
    "from backend.domain.model import Company, Filing\n",
    "from backend.service_layer.uow import SqlAlchemyUnitOfWork\n",
    "from analyze_company_data_completeness import get_sp500_tickers"
   ]
  },
  {
   "cell_type": "code",
   "execution_count": 39,
   "metadata": {},
   "outputs": [],
   "source": [
    "import yfinance as yf\n"
   ]
  },
  {
   "cell_type": "code",
   "execution_count": 3,
   "metadata": {},
   "outputs": [],
   "source": [
    "sp500 = get_sp500_tickers()"
   ]
  },
  {
   "cell_type": "code",
   "execution_count": 66,
   "metadata": {},
   "outputs": [],
   "source": [
    "uow_instance = uow.UnitOfWork()"
   ]
  },
  {
   "cell_type": "code",
   "execution_count": null,
   "metadata": {},
   "outputs": [],
   "source": [
    "res = service.get_consolidated_income_statements(\"CMG\", uow_instance, \"10-K\", use_database=False)\n",
    "res.df "
   ]
  },
  {
   "cell_type": "code",
   "execution_count": null,
   "metadata": {},
   "outputs": [],
   "source": [
    "res.df"
   ]
  },
  {
   "cell_type": "code",
   "execution_count": null,
   "metadata": {},
   "outputs": [],
   "source": []
  },
  {
   "cell_type": "code",
   "execution_count": null,
   "metadata": {},
   "outputs": [],
   "source": [
    "for ticker in sp500[75:]:\n",
    "    print(ticker)\n",
    "    try:\n",
    "        res = service.get_consolidated_income_statements(ticker, uow_instance, \"10-K\")\n",
    "        print(res.analyze_period_coverage()['has_continuous_coverage'])\n",
    "\n",
    "    except Exception as e:\n",
    "        print(f'{ticker} failed')\n",
    "        print(e)\n"
   ]
  },
  {
   "cell_type": "code",
   "execution_count": null,
   "metadata": {},
   "outputs": [],
   "source": [
    "consolidated = service.get_consolidated_income_statements(\"GD\", uow_instance, \"10-K\")"
   ]
  },
  {
   "cell_type": "code",
   "execution_count": null,
   "metadata": {},
   "outputs": [],
   "source": [
    "consolidated.df"
   ]
  },
  {
   "cell_type": "code",
   "execution_count": null,
   "metadata": {},
   "outputs": [],
   "source": [
    "\n",
    "\n",
    "with SqlAlchemyUnitOfWork() as uow:\n",
    "    # Get initial statements\n",
    "    statements = service.get_consolidated_income_statements(\"GOOG\", uow, \"10-K\")\n",
    "    \n",
    "    uow.stmts.add(statements)\n",
    "\n",
    "# Start new UoW to verify changes persisted\n",
    "with SqlAlchemyUnitOfWork() as uow:\n",
    "    saved_statements = uow.stmts.get(\"GOOG\", \"10-K\")\n",
    "    assert saved_statements is not None"
   ]
  },
  {
   "cell_type": "code",
   "execution_count": null,
   "metadata": {},
   "outputs": [],
   "source": [
    "saved_statements.df"
   ]
  },
  {
   "cell_type": "code",
   "execution_count": null,
   "metadata": {},
   "outputs": [],
   "source": [
    "from backend.adapters.repository import PostgresCombinedFinancialStatementsRepository\n",
    "with SqlAlchemyUnitOfWork() as uow:\n",
    "    pcfs = PostgresCombinedFinancialStatementsRepository(uow)\n",
    "    print(pcfs._serialize(statements))"
   ]
  },
  {
   "cell_type": "code",
   "execution_count": null,
   "metadata": {},
   "outputs": [],
   "source": [
    "uow_instance = uow.UnitOfWork()\n"
   ]
  },
  {
   "cell_type": "code",
   "execution_count": null,
   "metadata": {},
   "outputs": [],
   "source": [
    "combined = service.get_consolidated_income_statements('B ABA', uow_instance, '10-Q')"
   ]
  },
  {
   "cell_type": "code",
   "execution_count": null,
   "metadata": {},
   "outputs": [],
   "source": [
    "for filing in combined.source_filings:\n",
    "    print(filing.cover_page.document_fiscal_period_focus, filing.cover_page.document_fiscal_year_focus) "
   ]
  },
  {
   "cell_type": "code",
   "execution_count": 5,
   "metadata": {},
   "outputs": [],
   "source": [
    "def remove_zero_decimals(val):\n",
    "    try:\n",
    "        num = float(val)\n",
    "        if num == int(num):\n",
    "            return int(num)\n",
    "        else:\n",
    "            return num\n",
    "    except (ValueError, TypeError):\n",
    "        return val"
   ]
  },
  {
   "cell_type": "code",
   "execution_count": 6,
   "metadata": {},
   "outputs": [],
   "source": [
    "import pandas as pd\n",
    "pd.options.display.float_format = '{:.10g}'.format\n",
    "combined.df = combined.df.map(remove_zero_decimals)"
   ]
  },
  {
   "cell_type": "code",
   "execution_count": null,
   "metadata": {},
   "outputs": [],
   "source": [
    "combined.df"
   ]
  },
  {
   "cell_type": "code",
   "execution_count": null,
   "metadata": {},
   "outputs": [],
   "source": [
    "combined.df.apply(combined.is_sparse_row, axis=1)"
   ]
  },
  {
   "cell_type": "code",
   "execution_count": 9,
   "metadata": {},
   "outputs": [],
   "source": [
    "def convert_to_millions(val):\n",
    "    try:\n",
    "        num = float(val)\n",
    "        \n",
    "        if abs(num) >= 100_000:\n",
    "            result = round(num / 1000000, 2)\n",
    "            # Check if the result has no meaningful decimal part\n",
    "            if result == int(result):\n",
    "                return int(result)\n",
    "            else:\n",
    "                return result\n",
    "        else:\n",
    "            return num\n",
    "    except (ValueError, TypeError):\n",
    "        return val"
   ]
  },
  {
   "cell_type": "code",
   "execution_count": 10,
   "metadata": {},
   "outputs": [],
   "source": [
    "def is_sparse_row(row):\n",
    "    # Count zero values in the row\n",
    "    numeric_values = 0\n",
    "    zero_values = 0\n",
    "    \n",
    "    for val in row:\n",
    "        try:\n",
    "            num = float(val)\n",
    "            numeric_values += 1\n",
    "            if num == 0:\n",
    "                zero_values += 1\n",
    "        except (ValueError, TypeError):\n",
    "            # Skip non-numeric values\n",
    "            pass\n",
    "    \n",
    "    # If no numeric values, don't delete\n",
    "    if numeric_values == 0:\n",
    "        return False\n",
    "        \n",
    "    # Calculate percentage of zeros\n",
    "    zero_percentage = zero_values / numeric_values if numeric_values > 0 else 0\n",
    "    \n",
    "    # Return True if more than 50% zeros\n",
    "    return zero_percentage > 0.5"
   ]
  },
  {
   "cell_type": "code",
   "execution_count": 11,
   "metadata": {},
   "outputs": [],
   "source": [
    "# combined.df = combined.df.applymap(convert_to_millions)\n"
   ]
  },
  {
   "cell_type": "code",
   "execution_count": 12,
   "metadata": {},
   "outputs": [],
   "source": [
    "# combined.df = combined.df.loc[[not is_sparse_row(row) for _, row in combined.df.iterrows()]]"
   ]
  },
  {
   "cell_type": "code",
   "execution_count": null,
   "metadata": {},
   "outputs": [],
   "source": [
    "combined.df"
   ]
  },
  {
   "cell_type": "code",
   "execution_count": null,
   "metadata": {},
   "outputs": [],
   "source": [
    "combined.analyze_period_coverage()"
   ]
  },
  {
   "cell_type": "code",
   "execution_count": 18,
   "metadata": {},
   "outputs": [],
   "source": []
  },
  {
   "cell_type": "code",
   "execution_count": null,
   "metadata": {},
   "outputs": [],
   "source": [
    "df"
   ]
  },
  {
   "cell_type": "code",
   "execution_count": null,
   "metadata": {},
   "outputs": [],
   "source": [
    "for filing in combined.source_filings:\n",
    "    try: \n",
    "        print(filing.cover_page.document_fiscal_period_focus, filing.cover_page.document_fiscal_year_focus)\n",
    "    except:\n",
    "        print(filing.form)"
   ]
  },
  {
   "cell_type": "code",
   "execution_count": null,
   "metadata": {},
   "outputs": [],
   "source": [
    "sorted_columns = sorted(combined.df.columns, key=lambda x: x.split(':')[0])\n",
    "print(sorted_columns)"
   ]
  },
  {
   "cell_type": "code",
   "execution_count": null,
   "metadata": {},
   "outputs": [],
   "source": [
    "# Get data for first 4 filings\n",
    "for filing in company.filings[:1]:\n",
    "    filing.data = uow_instance.sec_filings.get_filing_data(\n",
    "        filing.cik,\n",
    "        filing.accession_number,\n",
    "        filing.primary_document\n",
    "    )\n",
    "    filing.filing_url = uow_instance.sec_filings.get_filing_url(\n",
    "        filing.cik,\n",
    "        filing.accession_number,\n",
    "        filing.primary_document\n",
    "    )\n",
    "    print(f'Loaded data for filing date {filing.filing_date}, form {filing.form}')\n"
   ]
  },
  {
   "cell_type": "code",
   "execution_count": null,
   "metadata": {},
   "outputs": [],
   "source": [
    "res = company.select_filings_with_processing_pattern(company.filings,'10-Q')"
   ]
  },
  {
   "cell_type": "code",
   "execution_count": null,
   "metadata": {},
   "outputs": [],
   "source": [
    "for filing in res:\n",
    "    print(f'Loaded data for filing date {filing.filing_date}, form {filing.form}')"
   ]
  },
  {
   "cell_type": "code",
   "execution_count": null,
   "metadata": {},
   "outputs": [],
   "source": []
  },
  {
   "cell_type": "code",
   "execution_count": null,
   "metadata": {},
   "outputs": [],
   "source": []
  },
  {
   "cell_type": "code",
   "execution_count": null,
   "metadata": {},
   "outputs": [],
   "source": []
  },
  {
   "cell_type": "code",
   "execution_count": null,
   "metadata": {},
   "outputs": [],
   "source": []
  },
  {
   "cell_type": "code",
   "execution_count": null,
   "metadata": {},
   "outputs": [],
   "source": []
  }
 ],
 "metadata": {
  "kernelspec": {
   "display_name": ".venv",
   "language": "python",
   "name": "python3"
  },
  "language_info": {
   "codemirror_mode": {
    "name": "ipython",
    "version": 3
   },
   "file_extension": ".py",
   "mimetype": "text/x-python",
   "name": "python",
   "nbconvert_exporter": "python",
   "pygments_lexer": "ipython3",
   "version": "3.11.9"
  }
 },
 "nbformat": 4,
 "nbformat_minor": 2
}
